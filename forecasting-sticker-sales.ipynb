{
 "cells": [
  {
   "cell_type": "code",
   "execution_count": 1,
   "id": "49b2f3f3",
   "metadata": {
    "_cell_guid": "b1076dfc-b9ad-4769-8c92-a6c4dae69d19",
    "_uuid": "8f2839f25d086af736a60e9eeb907d3b93b6e0e5",
    "execution": {
     "iopub.execute_input": "2025-03-23T17:17:59.721948Z",
     "iopub.status.busy": "2025-03-23T17:17:59.721519Z",
     "iopub.status.idle": "2025-03-23T17:18:00.538943Z",
     "shell.execute_reply": "2025-03-23T17:18:00.537846Z"
    },
    "papermill": {
     "duration": 0.84199,
     "end_time": "2025-03-23T17:18:00.541026",
     "exception": false,
     "start_time": "2025-03-23T17:17:59.699036",
     "status": "completed"
    },
    "tags": []
   },
   "outputs": [
    {
     "name": "stdout",
     "output_type": "stream",
     "text": [
      "/kaggle/input/playground-series-s5e1/sample_submission.csv\n",
      "/kaggle/input/playground-series-s5e1/train.csv\n",
      "/kaggle/input/playground-series-s5e1/test.csv\n"
     ]
    }
   ],
   "source": [
    "# This Python 3 environment comes with many helpful analytics libraries installed\n",
    "# It is defined by the kaggle/python Docker image: https://github.com/kaggle/docker-python\n",
    "# For example, here's several helpful packages to load\n",
    "\n",
    "import numpy as np # linear algebra\n",
    "import pandas as pd # data processing, CSV file I/O (e.g. pd.read_csv)\n",
    "\n",
    "# Input data files are available in the read-only \"../input/\" directory\n",
    "# For example, running this (by clicking run or pressing Shift+Enter) will list all files under the input directory\n",
    "\n",
    "import os\n",
    "for dirname, _, filenames in os.walk('/kaggle/input'):\n",
    "    for filename in filenames:\n",
    "        print(os.path.join(dirname, filename))\n",
    "\n",
    "# You can write up to 20GB to the current directory (/kaggle/working/) that gets preserved as output when you create a version using \"Save & Run All\" \n",
    "# You can also write temporary files to /kaggle/temp/, but they won't be saved outside of the current session"
   ]
  },
  {
   "cell_type": "markdown",
   "id": "19600537",
   "metadata": {
    "papermill": {
     "duration": 0.010368,
     "end_time": "2025-03-23T17:18:00.562748",
     "exception": false,
     "start_time": "2025-03-23T17:18:00.552380",
     "status": "completed"
    },
    "tags": []
   },
   "source": [
    "# Importing Libraries "
   ]
  },
  {
   "cell_type": "code",
   "execution_count": 2,
   "id": "fe679c17",
   "metadata": {
    "execution": {
     "iopub.execute_input": "2025-03-23T17:18:00.585788Z",
     "iopub.status.busy": "2025-03-23T17:18:00.585256Z",
     "iopub.status.idle": "2025-03-23T17:18:03.199030Z",
     "shell.execute_reply": "2025-03-23T17:18:03.197933Z"
    },
    "papermill": {
     "duration": 2.627584,
     "end_time": "2025-03-23T17:18:03.201091",
     "exception": false,
     "start_time": "2025-03-23T17:18:00.573507",
     "status": "completed"
    },
    "tags": []
   },
   "outputs": [],
   "source": [
    "import pandas as pd\n",
    "import numpy as np\n",
    "import matplotlib.pyplot as plt\n",
    "import seaborn as sns\n",
    "from scipy.stats import chi2_contingency\n",
    "import pandas as pd\n",
    "import numpy as np\n",
    "import matplotlib.pyplot as plt\n",
    "import seaborn as sns\n",
    "from scipy.stats import chi2_contingency\n",
    "from sklearn.model_selection import train_test_split, GridSearchCV, RandomizedSearchCV, KFold, StratifiedKFold\n",
    "from sklearn.feature_selection import SelectKBest, f_classif\n",
    "from sklearn.preprocessing import OneHotEncoder, StandardScaler, MinMaxScaler\n",
    "from sklearn.impute import SimpleImputer\n",
    "from sklearn.compose import ColumnTransformer\n",
    "from sklearn.pipeline import Pipeline\n",
    "from sklearn.ensemble import RandomForestClassifier, GradientBoostingClassifier\n",
    "from sklearn.linear_model import LogisticRegression\n",
    "from sklearn.ensemble import RandomForestClassifier, VotingClassifier\n",
    "from sklearn.svm import SVC\n",
    "from xgboost import XGBClassifier\n",
    "from imblearn.over_sampling import SMOTE\n",
    "from sklearn.metrics import f1_score, classification_report,confusion_matrix, ConfusionMatrixDisplay\n",
    "from scipy.stats import uniform, randint\n",
    "from xgboost import XGBRegressor\n",
    "from sklearn.metrics import mean_absolute_percentage_error"
   ]
  },
  {
   "cell_type": "markdown",
   "id": "9e7812e9",
   "metadata": {
    "papermill": {
     "duration": 0.010318,
     "end_time": "2025-03-23T17:18:03.222371",
     "exception": false,
     "start_time": "2025-03-23T17:18:03.212053",
     "status": "completed"
    },
    "tags": []
   },
   "source": [
    "# Data Loading"
   ]
  },
  {
   "cell_type": "code",
   "execution_count": 3,
   "id": "51810ff0",
   "metadata": {
    "execution": {
     "iopub.execute_input": "2025-03-23T17:18:03.245169Z",
     "iopub.status.busy": "2025-03-23T17:18:03.244660Z",
     "iopub.status.idle": "2025-03-23T17:18:03.591994Z",
     "shell.execute_reply": "2025-03-23T17:18:03.590858Z"
    },
    "papermill": {
     "duration": 0.360584,
     "end_time": "2025-03-23T17:18:03.593844",
     "exception": false,
     "start_time": "2025-03-23T17:18:03.233260",
     "status": "completed"
    },
    "tags": []
   },
   "outputs": [],
   "source": [
    "train_data=pd.read_csv('/kaggle/input/playground-series-s5e1/train.csv')"
   ]
  },
  {
   "cell_type": "markdown",
   "id": "3bea4877",
   "metadata": {
    "papermill": {
     "duration": 0.010153,
     "end_time": "2025-03-23T17:18:03.614591",
     "exception": false,
     "start_time": "2025-03-23T17:18:03.604438",
     "status": "completed"
    },
    "tags": []
   },
   "source": [
    "# EDA"
   ]
  },
  {
   "cell_type": "code",
   "execution_count": 4,
   "id": "abbb10a5",
   "metadata": {
    "execution": {
     "iopub.execute_input": "2025-03-23T17:18:03.636368Z",
     "iopub.status.busy": "2025-03-23T17:18:03.635976Z",
     "iopub.status.idle": "2025-03-23T17:18:03.658997Z",
     "shell.execute_reply": "2025-03-23T17:18:03.657941Z"
    },
    "papermill": {
     "duration": 0.035938,
     "end_time": "2025-03-23T17:18:03.660824",
     "exception": false,
     "start_time": "2025-03-23T17:18:03.624886",
     "status": "completed"
    },
    "tags": []
   },
   "outputs": [
    {
     "data": {
      "text/html": [
       "<div>\n",
       "<style scoped>\n",
       "    .dataframe tbody tr th:only-of-type {\n",
       "        vertical-align: middle;\n",
       "    }\n",
       "\n",
       "    .dataframe tbody tr th {\n",
       "        vertical-align: top;\n",
       "    }\n",
       "\n",
       "    .dataframe thead th {\n",
       "        text-align: right;\n",
       "    }\n",
       "</style>\n",
       "<table border=\"1\" class=\"dataframe\">\n",
       "  <thead>\n",
       "    <tr style=\"text-align: right;\">\n",
       "      <th></th>\n",
       "      <th>id</th>\n",
       "      <th>date</th>\n",
       "      <th>country</th>\n",
       "      <th>store</th>\n",
       "      <th>product</th>\n",
       "      <th>num_sold</th>\n",
       "    </tr>\n",
       "  </thead>\n",
       "  <tbody>\n",
       "    <tr>\n",
       "      <th>0</th>\n",
       "      <td>0</td>\n",
       "      <td>2010-01-01</td>\n",
       "      <td>Canada</td>\n",
       "      <td>Discount Stickers</td>\n",
       "      <td>Holographic Goose</td>\n",
       "      <td>NaN</td>\n",
       "    </tr>\n",
       "    <tr>\n",
       "      <th>1</th>\n",
       "      <td>1</td>\n",
       "      <td>2010-01-01</td>\n",
       "      <td>Canada</td>\n",
       "      <td>Discount Stickers</td>\n",
       "      <td>Kaggle</td>\n",
       "      <td>973.0</td>\n",
       "    </tr>\n",
       "    <tr>\n",
       "      <th>2</th>\n",
       "      <td>2</td>\n",
       "      <td>2010-01-01</td>\n",
       "      <td>Canada</td>\n",
       "      <td>Discount Stickers</td>\n",
       "      <td>Kaggle Tiers</td>\n",
       "      <td>906.0</td>\n",
       "    </tr>\n",
       "    <tr>\n",
       "      <th>3</th>\n",
       "      <td>3</td>\n",
       "      <td>2010-01-01</td>\n",
       "      <td>Canada</td>\n",
       "      <td>Discount Stickers</td>\n",
       "      <td>Kerneler</td>\n",
       "      <td>423.0</td>\n",
       "    </tr>\n",
       "    <tr>\n",
       "      <th>4</th>\n",
       "      <td>4</td>\n",
       "      <td>2010-01-01</td>\n",
       "      <td>Canada</td>\n",
       "      <td>Discount Stickers</td>\n",
       "      <td>Kerneler Dark Mode</td>\n",
       "      <td>491.0</td>\n",
       "    </tr>\n",
       "    <tr>\n",
       "      <th>...</th>\n",
       "      <td>...</td>\n",
       "      <td>...</td>\n",
       "      <td>...</td>\n",
       "      <td>...</td>\n",
       "      <td>...</td>\n",
       "      <td>...</td>\n",
       "    </tr>\n",
       "    <tr>\n",
       "      <th>230125</th>\n",
       "      <td>230125</td>\n",
       "      <td>2016-12-31</td>\n",
       "      <td>Singapore</td>\n",
       "      <td>Premium Sticker Mart</td>\n",
       "      <td>Holographic Goose</td>\n",
       "      <td>466.0</td>\n",
       "    </tr>\n",
       "    <tr>\n",
       "      <th>230126</th>\n",
       "      <td>230126</td>\n",
       "      <td>2016-12-31</td>\n",
       "      <td>Singapore</td>\n",
       "      <td>Premium Sticker Mart</td>\n",
       "      <td>Kaggle</td>\n",
       "      <td>2907.0</td>\n",
       "    </tr>\n",
       "    <tr>\n",
       "      <th>230127</th>\n",
       "      <td>230127</td>\n",
       "      <td>2016-12-31</td>\n",
       "      <td>Singapore</td>\n",
       "      <td>Premium Sticker Mart</td>\n",
       "      <td>Kaggle Tiers</td>\n",
       "      <td>2299.0</td>\n",
       "    </tr>\n",
       "    <tr>\n",
       "      <th>230128</th>\n",
       "      <td>230128</td>\n",
       "      <td>2016-12-31</td>\n",
       "      <td>Singapore</td>\n",
       "      <td>Premium Sticker Mart</td>\n",
       "      <td>Kerneler</td>\n",
       "      <td>1242.0</td>\n",
       "    </tr>\n",
       "    <tr>\n",
       "      <th>230129</th>\n",
       "      <td>230129</td>\n",
       "      <td>2016-12-31</td>\n",
       "      <td>Singapore</td>\n",
       "      <td>Premium Sticker Mart</td>\n",
       "      <td>Kerneler Dark Mode</td>\n",
       "      <td>1622.0</td>\n",
       "    </tr>\n",
       "  </tbody>\n",
       "</table>\n",
       "<p>230130 rows × 6 columns</p>\n",
       "</div>"
      ],
      "text/plain": [
       "            id        date    country                 store  \\\n",
       "0            0  2010-01-01     Canada     Discount Stickers   \n",
       "1            1  2010-01-01     Canada     Discount Stickers   \n",
       "2            2  2010-01-01     Canada     Discount Stickers   \n",
       "3            3  2010-01-01     Canada     Discount Stickers   \n",
       "4            4  2010-01-01     Canada     Discount Stickers   \n",
       "...        ...         ...        ...                   ...   \n",
       "230125  230125  2016-12-31  Singapore  Premium Sticker Mart   \n",
       "230126  230126  2016-12-31  Singapore  Premium Sticker Mart   \n",
       "230127  230127  2016-12-31  Singapore  Premium Sticker Mart   \n",
       "230128  230128  2016-12-31  Singapore  Premium Sticker Mart   \n",
       "230129  230129  2016-12-31  Singapore  Premium Sticker Mart   \n",
       "\n",
       "                   product  num_sold  \n",
       "0        Holographic Goose       NaN  \n",
       "1                   Kaggle     973.0  \n",
       "2             Kaggle Tiers     906.0  \n",
       "3                 Kerneler     423.0  \n",
       "4       Kerneler Dark Mode     491.0  \n",
       "...                    ...       ...  \n",
       "230125   Holographic Goose     466.0  \n",
       "230126              Kaggle    2907.0  \n",
       "230127        Kaggle Tiers    2299.0  \n",
       "230128            Kerneler    1242.0  \n",
       "230129  Kerneler Dark Mode    1622.0  \n",
       "\n",
       "[230130 rows x 6 columns]"
      ]
     },
     "execution_count": 4,
     "metadata": {},
     "output_type": "execute_result"
    }
   ],
   "source": [
    "train_data"
   ]
  },
  {
   "cell_type": "code",
   "execution_count": 5,
   "id": "349cd489",
   "metadata": {
    "execution": {
     "iopub.execute_input": "2025-03-23T17:18:03.683192Z",
     "iopub.status.busy": "2025-03-23T17:18:03.682823Z",
     "iopub.status.idle": "2025-03-23T17:18:03.747683Z",
     "shell.execute_reply": "2025-03-23T17:18:03.746811Z"
    },
    "papermill": {
     "duration": 0.078016,
     "end_time": "2025-03-23T17:18:03.749515",
     "exception": false,
     "start_time": "2025-03-23T17:18:03.671499",
     "status": "completed"
    },
    "tags": []
   },
   "outputs": [
    {
     "name": "stdout",
     "output_type": "stream",
     "text": [
      "<class 'pandas.core.frame.DataFrame'>\n",
      "RangeIndex: 230130 entries, 0 to 230129\n",
      "Data columns (total 6 columns):\n",
      " #   Column    Non-Null Count   Dtype  \n",
      "---  ------    --------------   -----  \n",
      " 0   id        230130 non-null  int64  \n",
      " 1   date      230130 non-null  object \n",
      " 2   country   230130 non-null  object \n",
      " 3   store     230130 non-null  object \n",
      " 4   product   230130 non-null  object \n",
      " 5   num_sold  221259 non-null  float64\n",
      "dtypes: float64(1), int64(1), object(4)\n",
      "memory usage: 10.5+ MB\n"
     ]
    }
   ],
   "source": [
    "train_data.info()"
   ]
  },
  {
   "cell_type": "code",
   "execution_count": 6,
   "id": "7ba77c4f",
   "metadata": {
    "execution": {
     "iopub.execute_input": "2025-03-23T17:18:03.772064Z",
     "iopub.status.busy": "2025-03-23T17:18:03.771727Z",
     "iopub.status.idle": "2025-03-23T17:18:03.831598Z",
     "shell.execute_reply": "2025-03-23T17:18:03.830272Z"
    },
    "papermill": {
     "duration": 0.073768,
     "end_time": "2025-03-23T17:18:03.834073",
     "exception": false,
     "start_time": "2025-03-23T17:18:03.760305",
     "status": "completed"
    },
    "tags": []
   },
   "outputs": [
    {
     "data": {
      "text/plain": [
       "id             0\n",
       "date           0\n",
       "country        0\n",
       "store          0\n",
       "product        0\n",
       "num_sold    8871\n",
       "dtype: int64"
      ]
     },
     "execution_count": 6,
     "metadata": {},
     "output_type": "execute_result"
    }
   ],
   "source": [
    "train_data.isnull().sum()"
   ]
  },
  {
   "cell_type": "code",
   "execution_count": 7,
   "id": "2dad85c2",
   "metadata": {
    "execution": {
     "iopub.execute_input": "2025-03-23T17:18:03.867700Z",
     "iopub.status.busy": "2025-03-23T17:18:03.867332Z",
     "iopub.status.idle": "2025-03-23T17:18:03.947574Z",
     "shell.execute_reply": "2025-03-23T17:18:03.946040Z"
    },
    "papermill": {
     "duration": 0.100498,
     "end_time": "2025-03-23T17:18:03.950439",
     "exception": false,
     "start_time": "2025-03-23T17:18:03.849941",
     "status": "completed"
    },
    "tags": []
   },
   "outputs": [],
   "source": [
    "new_train=train_data.dropna().reset_index(drop=True)"
   ]
  },
  {
   "cell_type": "code",
   "execution_count": 8,
   "id": "d136f159",
   "metadata": {
    "execution": {
     "iopub.execute_input": "2025-03-23T17:18:03.988345Z",
     "iopub.status.busy": "2025-03-23T17:18:03.987963Z",
     "iopub.status.idle": "2025-03-23T17:18:04.009340Z",
     "shell.execute_reply": "2025-03-23T17:18:04.007874Z"
    },
    "papermill": {
     "duration": 0.037012,
     "end_time": "2025-03-23T17:18:04.011855",
     "exception": false,
     "start_time": "2025-03-23T17:18:03.974843",
     "status": "completed"
    },
    "tags": []
   },
   "outputs": [
    {
     "data": {
      "text/html": [
       "<div>\n",
       "<style scoped>\n",
       "    .dataframe tbody tr th:only-of-type {\n",
       "        vertical-align: middle;\n",
       "    }\n",
       "\n",
       "    .dataframe tbody tr th {\n",
       "        vertical-align: top;\n",
       "    }\n",
       "\n",
       "    .dataframe thead th {\n",
       "        text-align: right;\n",
       "    }\n",
       "</style>\n",
       "<table border=\"1\" class=\"dataframe\">\n",
       "  <thead>\n",
       "    <tr style=\"text-align: right;\">\n",
       "      <th></th>\n",
       "      <th>id</th>\n",
       "      <th>date</th>\n",
       "      <th>country</th>\n",
       "      <th>store</th>\n",
       "      <th>product</th>\n",
       "      <th>num_sold</th>\n",
       "    </tr>\n",
       "  </thead>\n",
       "  <tbody>\n",
       "    <tr>\n",
       "      <th>0</th>\n",
       "      <td>1</td>\n",
       "      <td>2010-01-01</td>\n",
       "      <td>Canada</td>\n",
       "      <td>Discount Stickers</td>\n",
       "      <td>Kaggle</td>\n",
       "      <td>973.0</td>\n",
       "    </tr>\n",
       "    <tr>\n",
       "      <th>1</th>\n",
       "      <td>2</td>\n",
       "      <td>2010-01-01</td>\n",
       "      <td>Canada</td>\n",
       "      <td>Discount Stickers</td>\n",
       "      <td>Kaggle Tiers</td>\n",
       "      <td>906.0</td>\n",
       "    </tr>\n",
       "    <tr>\n",
       "      <th>2</th>\n",
       "      <td>3</td>\n",
       "      <td>2010-01-01</td>\n",
       "      <td>Canada</td>\n",
       "      <td>Discount Stickers</td>\n",
       "      <td>Kerneler</td>\n",
       "      <td>423.0</td>\n",
       "    </tr>\n",
       "    <tr>\n",
       "      <th>3</th>\n",
       "      <td>4</td>\n",
       "      <td>2010-01-01</td>\n",
       "      <td>Canada</td>\n",
       "      <td>Discount Stickers</td>\n",
       "      <td>Kerneler Dark Mode</td>\n",
       "      <td>491.0</td>\n",
       "    </tr>\n",
       "    <tr>\n",
       "      <th>4</th>\n",
       "      <td>5</td>\n",
       "      <td>2010-01-01</td>\n",
       "      <td>Canada</td>\n",
       "      <td>Stickers for Less</td>\n",
       "      <td>Holographic Goose</td>\n",
       "      <td>300.0</td>\n",
       "    </tr>\n",
       "    <tr>\n",
       "      <th>...</th>\n",
       "      <td>...</td>\n",
       "      <td>...</td>\n",
       "      <td>...</td>\n",
       "      <td>...</td>\n",
       "      <td>...</td>\n",
       "      <td>...</td>\n",
       "    </tr>\n",
       "    <tr>\n",
       "      <th>221254</th>\n",
       "      <td>230125</td>\n",
       "      <td>2016-12-31</td>\n",
       "      <td>Singapore</td>\n",
       "      <td>Premium Sticker Mart</td>\n",
       "      <td>Holographic Goose</td>\n",
       "      <td>466.0</td>\n",
       "    </tr>\n",
       "    <tr>\n",
       "      <th>221255</th>\n",
       "      <td>230126</td>\n",
       "      <td>2016-12-31</td>\n",
       "      <td>Singapore</td>\n",
       "      <td>Premium Sticker Mart</td>\n",
       "      <td>Kaggle</td>\n",
       "      <td>2907.0</td>\n",
       "    </tr>\n",
       "    <tr>\n",
       "      <th>221256</th>\n",
       "      <td>230127</td>\n",
       "      <td>2016-12-31</td>\n",
       "      <td>Singapore</td>\n",
       "      <td>Premium Sticker Mart</td>\n",
       "      <td>Kaggle Tiers</td>\n",
       "      <td>2299.0</td>\n",
       "    </tr>\n",
       "    <tr>\n",
       "      <th>221257</th>\n",
       "      <td>230128</td>\n",
       "      <td>2016-12-31</td>\n",
       "      <td>Singapore</td>\n",
       "      <td>Premium Sticker Mart</td>\n",
       "      <td>Kerneler</td>\n",
       "      <td>1242.0</td>\n",
       "    </tr>\n",
       "    <tr>\n",
       "      <th>221258</th>\n",
       "      <td>230129</td>\n",
       "      <td>2016-12-31</td>\n",
       "      <td>Singapore</td>\n",
       "      <td>Premium Sticker Mart</td>\n",
       "      <td>Kerneler Dark Mode</td>\n",
       "      <td>1622.0</td>\n",
       "    </tr>\n",
       "  </tbody>\n",
       "</table>\n",
       "<p>221259 rows × 6 columns</p>\n",
       "</div>"
      ],
      "text/plain": [
       "            id        date    country                 store  \\\n",
       "0            1  2010-01-01     Canada     Discount Stickers   \n",
       "1            2  2010-01-01     Canada     Discount Stickers   \n",
       "2            3  2010-01-01     Canada     Discount Stickers   \n",
       "3            4  2010-01-01     Canada     Discount Stickers   \n",
       "4            5  2010-01-01     Canada     Stickers for Less   \n",
       "...        ...         ...        ...                   ...   \n",
       "221254  230125  2016-12-31  Singapore  Premium Sticker Mart   \n",
       "221255  230126  2016-12-31  Singapore  Premium Sticker Mart   \n",
       "221256  230127  2016-12-31  Singapore  Premium Sticker Mart   \n",
       "221257  230128  2016-12-31  Singapore  Premium Sticker Mart   \n",
       "221258  230129  2016-12-31  Singapore  Premium Sticker Mart   \n",
       "\n",
       "                   product  num_sold  \n",
       "0                   Kaggle     973.0  \n",
       "1             Kaggle Tiers     906.0  \n",
       "2                 Kerneler     423.0  \n",
       "3       Kerneler Dark Mode     491.0  \n",
       "4        Holographic Goose     300.0  \n",
       "...                    ...       ...  \n",
       "221254   Holographic Goose     466.0  \n",
       "221255              Kaggle    2907.0  \n",
       "221256        Kaggle Tiers    2299.0  \n",
       "221257            Kerneler    1242.0  \n",
       "221258  Kerneler Dark Mode    1622.0  \n",
       "\n",
       "[221259 rows x 6 columns]"
      ]
     },
     "execution_count": 8,
     "metadata": {},
     "output_type": "execute_result"
    }
   ],
   "source": [
    "new_train"
   ]
  },
  {
   "cell_type": "code",
   "execution_count": 9,
   "id": "f3f446fc",
   "metadata": {
    "execution": {
     "iopub.execute_input": "2025-03-23T17:18:04.036286Z",
     "iopub.status.busy": "2025-03-23T17:18:04.035876Z",
     "iopub.status.idle": "2025-03-23T17:18:04.084197Z",
     "shell.execute_reply": "2025-03-23T17:18:04.083174Z"
    },
    "papermill": {
     "duration": 0.062211,
     "end_time": "2025-03-23T17:18:04.085947",
     "exception": false,
     "start_time": "2025-03-23T17:18:04.023736",
     "status": "completed"
    },
    "tags": []
   },
   "outputs": [
    {
     "data": {
      "text/plain": [
       "id          0\n",
       "date        0\n",
       "country     0\n",
       "store       0\n",
       "product     0\n",
       "num_sold    0\n",
       "dtype: int64"
      ]
     },
     "execution_count": 9,
     "metadata": {},
     "output_type": "execute_result"
    }
   ],
   "source": [
    "new_train.isnull().sum()"
   ]
  },
  {
   "cell_type": "code",
   "execution_count": 10,
   "id": "188fb260",
   "metadata": {
    "execution": {
     "iopub.execute_input": "2025-03-23T17:18:04.109612Z",
     "iopub.status.busy": "2025-03-23T17:18:04.109256Z",
     "iopub.status.idle": "2025-03-23T17:18:04.173994Z",
     "shell.execute_reply": "2025-03-23T17:18:04.172717Z"
    },
    "papermill": {
     "duration": 0.078718,
     "end_time": "2025-03-23T17:18:04.175788",
     "exception": false,
     "start_time": "2025-03-23T17:18:04.097070",
     "status": "completed"
    },
    "tags": []
   },
   "outputs": [
    {
     "name": "stdout",
     "output_type": "stream",
     "text": [
      "<class 'pandas.core.frame.DataFrame'>\n",
      "RangeIndex: 221259 entries, 0 to 221258\n",
      "Data columns (total 6 columns):\n",
      " #   Column    Non-Null Count   Dtype  \n",
      "---  ------    --------------   -----  \n",
      " 0   id        221259 non-null  int64  \n",
      " 1   date      221259 non-null  object \n",
      " 2   country   221259 non-null  object \n",
      " 3   store     221259 non-null  object \n",
      " 4   product   221259 non-null  object \n",
      " 5   num_sold  221259 non-null  float64\n",
      "dtypes: float64(1), int64(1), object(4)\n",
      "memory usage: 10.1+ MB\n"
     ]
    }
   ],
   "source": [
    "new_train.info()"
   ]
  },
  {
   "cell_type": "code",
   "execution_count": 11,
   "id": "24e418dd",
   "metadata": {
    "execution": {
     "iopub.execute_input": "2025-03-23T17:18:04.199680Z",
     "iopub.status.busy": "2025-03-23T17:18:04.199303Z",
     "iopub.status.idle": "2025-03-23T17:18:04.219707Z",
     "shell.execute_reply": "2025-03-23T17:18:04.218556Z"
    },
    "papermill": {
     "duration": 0.034589,
     "end_time": "2025-03-23T17:18:04.221790",
     "exception": false,
     "start_time": "2025-03-23T17:18:04.187201",
     "status": "completed"
    },
    "tags": []
   },
   "outputs": [],
   "source": [
    "num_column=new_train.select_dtypes('float64')\n",
    "cat_column=new_train.select_dtypes('object')\n",
    "cat_column.drop(columns='date',inplace=True)"
   ]
  },
  {
   "cell_type": "code",
   "execution_count": 12,
   "id": "c11c6e3b",
   "metadata": {
    "execution": {
     "iopub.execute_input": "2025-03-23T17:18:04.245606Z",
     "iopub.status.busy": "2025-03-23T17:18:04.245259Z",
     "iopub.status.idle": "2025-03-23T17:18:05.271684Z",
     "shell.execute_reply": "2025-03-23T17:18:05.270528Z"
    },
    "papermill": {
     "duration": 1.040574,
     "end_time": "2025-03-23T17:18:05.273698",
     "exception": false,
     "start_time": "2025-03-23T17:18:04.233124",
     "status": "completed"
    },
    "tags": []
   },
   "outputs": [
    {
     "name": "stderr",
     "output_type": "stream",
     "text": [
      "/usr/local/lib/python3.10/dist-packages/seaborn/_oldcore.py:1119: FutureWarning: use_inf_as_na option is deprecated and will be removed in a future version. Convert inf values to NaN before operating instead.\n",
      "  with pd.option_context('mode.use_inf_as_na', True):\n"
     ]
    },
    {
     "data": {
      "text/plain": [
       "<Axes: ylabel='Count'>"
      ]
     },
     "execution_count": 12,
     "metadata": {},
     "output_type": "execute_result"
    },
    {
     "data": {
      "image/png": "[encoded data removed]",
      "text/plain": [
       "<Figure size 640x480 with 1 Axes>"
      ]
     },
     "metadata": {},
     "output_type": "display_data"
    }
   ],
   "source": [
    "sns.histplot(data=num_column)"
   ]
  },
  {
   "cell_type": "code",
   "execution_count": 13,
   "id": "937c33a7",
   "metadata": {
    "execution": {
     "iopub.execute_input": "2025-03-23T17:18:05.298479Z",
     "iopub.status.busy": "2025-03-23T17:18:05.298109Z",
     "iopub.status.idle": "2025-03-23T17:18:05.971723Z",
     "shell.execute_reply": "2025-03-23T17:18:05.970299Z"
    },
    "papermill": {
     "duration": 0.689973,
     "end_time": "2025-03-23T17:18:05.975599",
     "exception": false,
     "start_time": "2025-03-23T17:18:05.285626",
     "status": "completed"
    },
    "tags": []
   },
   "outputs": [
    {
     "data": {
      "image/png": "[encoded data removed]",
      "text/plain": [
       "<Figure size 600x600 with 1 Axes>"
      ]
     },
     "metadata": {},
     "output_type": "display_data"
    },
    {
     "data": {
      "image/png": "[encoded data removed]",
      "text/plain": [
       "<Figure size 600x600 with 1 Axes>"
      ]
     },
     "metadata": {},
     "output_type": "display_data"
    },
    {
     "data": {
      "image/png": "[encoded data removed]",
      "text/plain": [
       "<Figure size 600x600 with 1 Axes>"
      ]
     },
     "metadata": {},
     "output_type": "display_data"
    }
   ],
   "source": [
    "for col in cat_column.columns:\n",
    "    plt.figure(figsize=(6, 6))\n",
    "    cat_column[col].value_counts().plot.pie(autopct='%1.1f%%', startangle=90, shadow=True)\n",
    "    plt.title(f'Pie Chart of {col}')\n",
    "    plt.ylabel('')\n",
    "    plt.show()\n"
   ]
  },
  {
   "cell_type": "code",
   "execution_count": 14,
   "id": "7d545319",
   "metadata": {
    "execution": {
     "iopub.execute_input": "2025-03-23T17:18:06.027159Z",
     "iopub.status.busy": "2025-03-23T17:18:06.026798Z",
     "iopub.status.idle": "2025-03-23T17:18:06.914245Z",
     "shell.execute_reply": "2025-03-23T17:18:06.913146Z"
    },
    "papermill": {
     "duration": 0.90494,
     "end_time": "2025-03-23T17:18:06.916064",
     "exception": false,
     "start_time": "2025-03-23T17:18:06.011124",
     "status": "completed"
    },
    "tags": []
   },
   "outputs": [
    {
     "data": {
      "image/png": "[encoded data removed]",
      "text/plain": [
       "<Figure size 800x600 with 1 Axes>"
      ]
     },
     "metadata": {},
     "output_type": "display_data"
    },
    {
     "data": {
      "image/png": "[encoded data removed]",
      "text/plain": [
       "<Figure size 800x600 with 1 Axes>"
      ]
     },
     "metadata": {},
     "output_type": "display_data"
    },
    {
     "data": {
      "image/png": "[encoded data removed]",
      "text/plain": [
       "<Figure size 800x600 with 1 Axes>"
      ]
     },
     "metadata": {},
     "output_type": "display_data"
    }
   ],
   "source": [
    "for col in cat_column.columns:\n",
    "    plt.figure(figsize=(8, 6))  # Set figure size\n",
    "    new_train.groupby(col)['num_sold'].sum().plot(kind='bar', color='skyblue', edgecolor='black')\n",
    "    plt.title(f'Bar Chart of {col}')\n",
    "    plt.ylabel('Total num_sold')\n",
    "    plt.xticks(rotation=45)  # Rotate x-axis labels for better readability\n",
    "    plt.grid(axis='y', linestyle='--', alpha=0.7)  # Add grid lines for better readability\n",
    "    plt.show()"
   ]
  },
  {
   "cell_type": "code",
   "execution_count": 15,
   "id": "fd802fe3",
   "metadata": {
    "execution": {
     "iopub.execute_input": "2025-03-23T17:18:06.951457Z",
     "iopub.status.busy": "2025-03-23T17:18:06.951033Z",
     "iopub.status.idle": "2025-03-23T17:18:07.610427Z",
     "shell.execute_reply": "2025-03-23T17:18:07.609380Z"
    },
    "papermill": {
     "duration": 0.678899,
     "end_time": "2025-03-23T17:18:07.612342",
     "exception": false,
     "start_time": "2025-03-23T17:18:06.933443",
     "status": "completed"
    },
    "tags": []
   },
   "outputs": [
    {
     "name": "stdout",
     "output_type": "stream",
     "text": [
      "   Feature     Chi-Square\n",
      "0  country  320050.229529\n",
      "2  product  227485.961436\n",
      "1    store   75106.817155\n"
     ]
    }
   ],
   "source": [
    "chi2_scores = {}\n",
    "for column in cat_column:\n",
    "    contingency_table = pd.crosstab(new_train[column], new_train['num_sold']) \n",
    "    chi2, p, dof, ex = chi2_contingency(contingency_table)\n",
    "    chi2_scores[column] = chi2\n",
    "\n",
    "chi2_df = pd.DataFrame(list(chi2_scores.items()), columns=['Feature', 'Chi-Square']).sort_values(by='Chi-Square', ascending=False)\n",
    "print(chi2_df)"
   ]
  },
  {
   "cell_type": "code",
   "execution_count": 16,
   "id": "9d191023",
   "metadata": {
    "execution": {
     "iopub.execute_input": "2025-03-23T17:18:07.648554Z",
     "iopub.status.busy": "2025-03-23T17:18:07.648181Z",
     "iopub.status.idle": "2025-03-23T17:18:07.885552Z",
     "shell.execute_reply": "2025-03-23T17:18:07.884398Z"
    },
    "papermill": {
     "duration": 0.257437,
     "end_time": "2025-03-23T17:18:07.887459",
     "exception": false,
     "start_time": "2025-03-23T17:18:07.630022",
     "status": "completed"
    },
    "tags": []
   },
   "outputs": [
    {
     "data": {
      "image/png": "[encoded data removed]",
      "text/plain": [
       "<Figure size 600x400 with 1 Axes>"
      ]
     },
     "metadata": {},
     "output_type": "display_data"
    }
   ],
   "source": [
    "plt.figure(figsize=(6, 4))\n",
    "sns.boxplot(data=num_column, color='skyblue')\n",
    "plt.title('Box Plot of number of item sold')\n",
    "plt.ylabel('Value')\n",
    "plt.show()"
   ]
  },
  {
   "cell_type": "code",
   "execution_count": 17,
   "id": "fd8a03ac",
   "metadata": {
    "execution": {
     "iopub.execute_input": "2025-03-23T17:18:07.924446Z",
     "iopub.status.busy": "2025-03-23T17:18:07.924052Z",
     "iopub.status.idle": "2025-03-23T17:18:07.938934Z",
     "shell.execute_reply": "2025-03-23T17:18:07.938005Z"
    },
    "papermill": {
     "duration": 0.035051,
     "end_time": "2025-03-23T17:18:07.940665",
     "exception": false,
     "start_time": "2025-03-23T17:18:07.905614",
     "status": "completed"
    },
    "tags": []
   },
   "outputs": [],
   "source": [
    "train_x = new_train.drop(columns=['id', 'num_sold'])\n",
    "train_y = new_train['num_sold']"
   ]
  },
  {
   "cell_type": "code",
   "execution_count": 18,
   "id": "085962d1",
   "metadata": {
    "execution": {
     "iopub.execute_input": "2025-03-23T17:18:07.976775Z",
     "iopub.status.busy": "2025-03-23T17:18:07.976428Z",
     "iopub.status.idle": "2025-03-23T17:18:07.987449Z",
     "shell.execute_reply": "2025-03-23T17:18:07.986442Z"
    },
    "papermill": {
     "duration": 0.03132,
     "end_time": "2025-03-23T17:18:07.989176",
     "exception": false,
     "start_time": "2025-03-23T17:18:07.957856",
     "status": "completed"
    },
    "tags": []
   },
   "outputs": [
    {
     "data": {
      "text/html": [
       "<div>\n",
       "<style scoped>\n",
       "    .dataframe tbody tr th:only-of-type {\n",
       "        vertical-align: middle;\n",
       "    }\n",
       "\n",
       "    .dataframe tbody tr th {\n",
       "        vertical-align: top;\n",
       "    }\n",
       "\n",
       "    .dataframe thead th {\n",
       "        text-align: right;\n",
       "    }\n",
       "</style>\n",
       "<table border=\"1\" class=\"dataframe\">\n",
       "  <thead>\n",
       "    <tr style=\"text-align: right;\">\n",
       "      <th></th>\n",
       "      <th>date</th>\n",
       "      <th>country</th>\n",
       "      <th>store</th>\n",
       "      <th>product</th>\n",
       "    </tr>\n",
       "  </thead>\n",
       "  <tbody>\n",
       "    <tr>\n",
       "      <th>0</th>\n",
       "      <td>2010-01-01</td>\n",
       "      <td>Canada</td>\n",
       "      <td>Discount Stickers</td>\n",
       "      <td>Kaggle</td>\n",
       "    </tr>\n",
       "    <tr>\n",
       "      <th>1</th>\n",
       "      <td>2010-01-01</td>\n",
       "      <td>Canada</td>\n",
       "      <td>Discount Stickers</td>\n",
       "      <td>Kaggle Tiers</td>\n",
       "    </tr>\n",
       "    <tr>\n",
       "      <th>2</th>\n",
       "      <td>2010-01-01</td>\n",
       "      <td>Canada</td>\n",
       "      <td>Discount Stickers</td>\n",
       "      <td>Kerneler</td>\n",
       "    </tr>\n",
       "    <tr>\n",
       "      <th>3</th>\n",
       "      <td>2010-01-01</td>\n",
       "      <td>Canada</td>\n",
       "      <td>Discount Stickers</td>\n",
       "      <td>Kerneler Dark Mode</td>\n",
       "    </tr>\n",
       "    <tr>\n",
       "      <th>4</th>\n",
       "      <td>2010-01-01</td>\n",
       "      <td>Canada</td>\n",
       "      <td>Stickers for Less</td>\n",
       "      <td>Holographic Goose</td>\n",
       "    </tr>\n",
       "    <tr>\n",
       "      <th>...</th>\n",
       "      <td>...</td>\n",
       "      <td>...</td>\n",
       "      <td>...</td>\n",
       "      <td>...</td>\n",
       "    </tr>\n",
       "    <tr>\n",
       "      <th>221254</th>\n",
       "      <td>2016-12-31</td>\n",
       "      <td>Singapore</td>\n",
       "      <td>Premium Sticker Mart</td>\n",
       "      <td>Holographic Goose</td>\n",
       "    </tr>\n",
       "    <tr>\n",
       "      <th>221255</th>\n",
       "      <td>2016-12-31</td>\n",
       "      <td>Singapore</td>\n",
       "      <td>Premium Sticker Mart</td>\n",
       "      <td>Kaggle</td>\n",
       "    </tr>\n",
       "    <tr>\n",
       "      <th>221256</th>\n",
       "      <td>2016-12-31</td>\n",
       "      <td>Singapore</td>\n",
       "      <td>Premium Sticker Mart</td>\n",
       "      <td>Kaggle Tiers</td>\n",
       "    </tr>\n",
       "    <tr>\n",
       "      <th>221257</th>\n",
       "      <td>2016-12-31</td>\n",
       "      <td>Singapore</td>\n",
       "      <td>Premium Sticker Mart</td>\n",
       "      <td>Kerneler</td>\n",
       "    </tr>\n",
       "    <tr>\n",
       "      <th>221258</th>\n",
       "      <td>2016-12-31</td>\n",
       "      <td>Singapore</td>\n",
       "      <td>Premium Sticker Mart</td>\n",
       "      <td>Kerneler Dark Mode</td>\n",
       "    </tr>\n",
       "  </tbody>\n",
       "</table>\n",
       "<p>221259 rows × 4 columns</p>\n",
       "</div>"
      ],
      "text/plain": [
       "              date    country                 store             product\n",
       "0       2010-01-01     Canada     Discount Stickers              Kaggle\n",
       "1       2010-01-01     Canada     Discount Stickers        Kaggle Tiers\n",
       "2       2010-01-01     Canada     Discount Stickers            Kerneler\n",
       "3       2010-01-01     Canada     Discount Stickers  Kerneler Dark Mode\n",
       "4       2010-01-01     Canada     Stickers for Less   Holographic Goose\n",
       "...            ...        ...                   ...                 ...\n",
       "221254  2016-12-31  Singapore  Premium Sticker Mart   Holographic Goose\n",
       "221255  2016-12-31  Singapore  Premium Sticker Mart              Kaggle\n",
       "221256  2016-12-31  Singapore  Premium Sticker Mart        Kaggle Tiers\n",
       "221257  2016-12-31  Singapore  Premium Sticker Mart            Kerneler\n",
       "221258  2016-12-31  Singapore  Premium Sticker Mart  Kerneler Dark Mode\n",
       "\n",
       "[221259 rows x 4 columns]"
      ]
     },
     "execution_count": 18,
     "metadata": {},
     "output_type": "execute_result"
    }
   ],
   "source": [
    "train_x"
   ]
  },
  {
   "cell_type": "code",
   "execution_count": 19,
   "id": "f4253f4f",
   "metadata": {
    "execution": {
     "iopub.execute_input": "2025-03-23T17:18:08.026060Z",
     "iopub.status.busy": "2025-03-23T17:18:08.025729Z",
     "iopub.status.idle": "2025-03-23T17:18:08.032780Z",
     "shell.execute_reply": "2025-03-23T17:18:08.031942Z"
    },
    "papermill": {
     "duration": 0.027461,
     "end_time": "2025-03-23T17:18:08.034388",
     "exception": false,
     "start_time": "2025-03-23T17:18:08.006927",
     "status": "completed"
    },
    "tags": []
   },
   "outputs": [
    {
     "data": {
      "text/plain": [
       "0          973.0\n",
       "1          906.0\n",
       "2          423.0\n",
       "3          491.0\n",
       "4          300.0\n",
       "           ...  \n",
       "221254     466.0\n",
       "221255    2907.0\n",
       "221256    2299.0\n",
       "221257    1242.0\n",
       "221258    1622.0\n",
       "Name: num_sold, Length: 221259, dtype: float64"
      ]
     },
     "execution_count": 19,
     "metadata": {},
     "output_type": "execute_result"
    }
   ],
   "source": [
    "train_y"
   ]
  },
  {
   "cell_type": "markdown",
   "id": "d254d3a9",
   "metadata": {
    "papermill": {
     "duration": 0.017461,
     "end_time": "2025-03-23T17:18:08.069680",
     "exception": false,
     "start_time": "2025-03-23T17:18:08.052219",
     "status": "completed"
    },
    "tags": []
   },
   "source": [
    "# Feature Engineering"
   ]
  },
  {
   "cell_type": "code",
   "execution_count": 20,
   "id": "7e9e0508",
   "metadata": {
    "execution": {
     "iopub.execute_input": "2025-03-23T17:18:08.106222Z",
     "iopub.status.busy": "2025-03-23T17:18:08.105840Z",
     "iopub.status.idle": "2025-03-23T17:18:08.249061Z",
     "shell.execute_reply": "2025-03-23T17:18:08.248064Z"
    },
    "papermill": {
     "duration": 0.163743,
     "end_time": "2025-03-23T17:18:08.250960",
     "exception": false,
     "start_time": "2025-03-23T17:18:08.087217",
     "status": "completed"
    },
    "tags": []
   },
   "outputs": [],
   "source": [
    "train_x['date'] = pd.to_datetime(train_x['date'])\n",
    "train_x['Year'] = train_x['date'].dt.year\n",
    "train_x['Month'] = train_x['date'].dt.month\n",
    "train_x['Day'] = train_x['date'].dt.day\n",
    "train_x['weekday'] = train_x['date'].dt.weekday  # 0 = Monday, 6 = Sunday\n",
    "train_x['is_weekend'] = train_x['weekday'].apply(lambda x: 1 if x >= 5 else 0)"
   ]
  },
  {
   "cell_type": "code",
   "execution_count": 21,
   "id": "08dd1e22",
   "metadata": {
    "execution": {
     "iopub.execute_input": "2025-03-23T17:18:08.290184Z",
     "iopub.status.busy": "2025-03-23T17:18:08.289812Z",
     "iopub.status.idle": "2025-03-23T17:18:08.304054Z",
     "shell.execute_reply": "2025-03-23T17:18:08.303105Z"
    },
    "papermill": {
     "duration": 0.036196,
     "end_time": "2025-03-23T17:18:08.305640",
     "exception": false,
     "start_time": "2025-03-23T17:18:08.269444",
     "status": "completed"
    },
    "tags": []
   },
   "outputs": [
    {
     "data": {
      "text/html": [
       "<div>\n",
       "<style scoped>\n",
       "    .dataframe tbody tr th:only-of-type {\n",
       "        vertical-align: middle;\n",
       "    }\n",
       "\n",
       "    .dataframe tbody tr th {\n",
       "        vertical-align: top;\n",
       "    }\n",
       "\n",
       "    .dataframe thead th {\n",
       "        text-align: right;\n",
       "    }\n",
       "</style>\n",
       "<table border=\"1\" class=\"dataframe\">\n",
       "  <thead>\n",
       "    <tr style=\"text-align: right;\">\n",
       "      <th></th>\n",
       "      <th>date</th>\n",
       "      <th>country</th>\n",
       "      <th>store</th>\n",
       "      <th>product</th>\n",
       "      <th>Year</th>\n",
       "      <th>Month</th>\n",
       "      <th>Day</th>\n",
       "      <th>weekday</th>\n",
       "      <th>is_weekend</th>\n",
       "    </tr>\n",
       "  </thead>\n",
       "  <tbody>\n",
       "    <tr>\n",
       "      <th>0</th>\n",
       "      <td>2010-01-01</td>\n",
       "      <td>Canada</td>\n",
       "      <td>Discount Stickers</td>\n",
       "      <td>Kaggle</td>\n",
       "      <td>2010</td>\n",
       "      <td>1</td>\n",
       "      <td>1</td>\n",
       "      <td>4</td>\n",
       "      <td>0</td>\n",
       "    </tr>\n",
       "    <tr>\n",
       "      <th>1</th>\n",
       "      <td>2010-01-01</td>\n",
       "      <td>Canada</td>\n",
       "      <td>Discount Stickers</td>\n",
       "      <td>Kaggle Tiers</td>\n",
       "      <td>2010</td>\n",
       "      <td>1</td>\n",
       "      <td>1</td>\n",
       "      <td>4</td>\n",
       "      <td>0</td>\n",
       "    </tr>\n",
       "    <tr>\n",
       "      <th>2</th>\n",
       "      <td>2010-01-01</td>\n",
       "      <td>Canada</td>\n",
       "      <td>Discount Stickers</td>\n",
       "      <td>Kerneler</td>\n",
       "      <td>2010</td>\n",
       "      <td>1</td>\n",
       "      <td>1</td>\n",
       "      <td>4</td>\n",
       "      <td>0</td>\n",
       "    </tr>\n",
       "    <tr>\n",
       "      <th>3</th>\n",
       "      <td>2010-01-01</td>\n",
       "      <td>Canada</td>\n",
       "      <td>Discount Stickers</td>\n",
       "      <td>Kerneler Dark Mode</td>\n",
       "      <td>2010</td>\n",
       "      <td>1</td>\n",
       "      <td>1</td>\n",
       "      <td>4</td>\n",
       "      <td>0</td>\n",
       "    </tr>\n",
       "    <tr>\n",
       "      <th>4</th>\n",
       "      <td>2010-01-01</td>\n",
       "      <td>Canada</td>\n",
       "      <td>Stickers for Less</td>\n",
       "      <td>Holographic Goose</td>\n",
       "      <td>2010</td>\n",
       "      <td>1</td>\n",
       "      <td>1</td>\n",
       "      <td>4</td>\n",
       "      <td>0</td>\n",
       "    </tr>\n",
       "    <tr>\n",
       "      <th>...</th>\n",
       "      <td>...</td>\n",
       "      <td>...</td>\n",
       "      <td>...</td>\n",
       "      <td>...</td>\n",
       "      <td>...</td>\n",
       "      <td>...</td>\n",
       "      <td>...</td>\n",
       "      <td>...</td>\n",
       "      <td>...</td>\n",
       "    </tr>\n",
       "    <tr>\n",
       "      <th>221254</th>\n",
       "      <td>2016-12-31</td>\n",
       "      <td>Singapore</td>\n",
       "      <td>Premium Sticker Mart</td>\n",
       "      <td>Holographic Goose</td>\n",
       "      <td>2016</td>\n",
       "      <td>12</td>\n",
       "      <td>31</td>\n",
       "      <td>5</td>\n",
       "      <td>1</td>\n",
       "    </tr>\n",
       "    <tr>\n",
       "      <th>221255</th>\n",
       "      <td>2016-12-31</td>\n",
       "      <td>Singapore</td>\n",
       "      <td>Premium Sticker Mart</td>\n",
       "      <td>Kaggle</td>\n",
       "      <td>2016</td>\n",
       "      <td>12</td>\n",
       "      <td>31</td>\n",
       "      <td>5</td>\n",
       "      <td>1</td>\n",
       "    </tr>\n",
       "    <tr>\n",
       "      <th>221256</th>\n",
       "      <td>2016-12-31</td>\n",
       "      <td>Singapore</td>\n",
       "      <td>Premium Sticker Mart</td>\n",
       "      <td>Kaggle Tiers</td>\n",
       "      <td>2016</td>\n",
       "      <td>12</td>\n",
       "      <td>31</td>\n",
       "      <td>5</td>\n",
       "      <td>1</td>\n",
       "    </tr>\n",
       "    <tr>\n",
       "      <th>221257</th>\n",
       "      <td>2016-12-31</td>\n",
       "      <td>Singapore</td>\n",
       "      <td>Premium Sticker Mart</td>\n",
       "      <td>Kerneler</td>\n",
       "      <td>2016</td>\n",
       "      <td>12</td>\n",
       "      <td>31</td>\n",
       "      <td>5</td>\n",
       "      <td>1</td>\n",
       "    </tr>\n",
       "    <tr>\n",
       "      <th>221258</th>\n",
       "      <td>2016-12-31</td>\n",
       "      <td>Singapore</td>\n",
       "      <td>Premium Sticker Mart</td>\n",
       "      <td>Kerneler Dark Mode</td>\n",
       "      <td>2016</td>\n",
       "      <td>12</td>\n",
       "      <td>31</td>\n",
       "      <td>5</td>\n",
       "      <td>1</td>\n",
       "    </tr>\n",
       "  </tbody>\n",
       "</table>\n",
       "<p>221259 rows × 9 columns</p>\n",
       "</div>"
      ],
      "text/plain": [
       "             date    country                 store             product  Year  \\\n",
       "0      2010-01-01     Canada     Discount Stickers              Kaggle  2010   \n",
       "1      2010-01-01     Canada     Discount Stickers        Kaggle Tiers  2010   \n",
       "2      2010-01-01     Canada     Discount Stickers            Kerneler  2010   \n",
       "3      2010-01-01     Canada     Discount Stickers  Kerneler Dark Mode  2010   \n",
       "4      2010-01-01     Canada     Stickers for Less   Holographic Goose  2010   \n",
       "...           ...        ...                   ...                 ...   ...   \n",
       "221254 2016-12-31  Singapore  Premium Sticker Mart   Holographic Goose  2016   \n",
       "221255 2016-12-31  Singapore  Premium Sticker Mart              Kaggle  2016   \n",
       "221256 2016-12-31  Singapore  Premium Sticker Mart        Kaggle Tiers  2016   \n",
       "221257 2016-12-31  Singapore  Premium Sticker Mart            Kerneler  2016   \n",
       "221258 2016-12-31  Singapore  Premium Sticker Mart  Kerneler Dark Mode  2016   \n",
       "\n",
       "        Month  Day  weekday  is_weekend  \n",
       "0           1    1        4           0  \n",
       "1           1    1        4           0  \n",
       "2           1    1        4           0  \n",
       "3           1    1        4           0  \n",
       "4           1    1        4           0  \n",
       "...       ...  ...      ...         ...  \n",
       "221254     12   31        5           1  \n",
       "221255     12   31        5           1  \n",
       "221256     12   31        5           1  \n",
       "221257     12   31        5           1  \n",
       "221258     12   31        5           1  \n",
       "\n",
       "[221259 rows x 9 columns]"
      ]
     },
     "execution_count": 21,
     "metadata": {},
     "output_type": "execute_result"
    }
   ],
   "source": [
    "train_x"
   ]
  },
  {
   "cell_type": "code",
   "execution_count": 22,
   "id": "7ae546b9",
   "metadata": {
    "execution": {
     "iopub.execute_input": "2025-03-23T17:18:08.343399Z",
     "iopub.status.busy": "2025-03-23T17:18:08.343003Z",
     "iopub.status.idle": "2025-03-23T17:18:08.364405Z",
     "shell.execute_reply": "2025-03-23T17:18:08.363513Z"
    },
    "papermill": {
     "duration": 0.042033,
     "end_time": "2025-03-23T17:18:08.365921",
     "exception": false,
     "start_time": "2025-03-23T17:18:08.323888",
     "status": "completed"
    },
    "tags": []
   },
   "outputs": [],
   "source": [
    "train_x.drop(columns=['date'],inplace=True)"
   ]
  },
  {
   "cell_type": "code",
   "execution_count": 23,
   "id": "a6ad3986",
   "metadata": {
    "execution": {
     "iopub.execute_input": "2025-03-23T17:18:08.403723Z",
     "iopub.status.busy": "2025-03-23T17:18:08.403312Z",
     "iopub.status.idle": "2025-03-23T17:18:08.416864Z",
     "shell.execute_reply": "2025-03-23T17:18:08.415683Z"
    },
    "papermill": {
     "duration": 0.034248,
     "end_time": "2025-03-23T17:18:08.418743",
     "exception": false,
     "start_time": "2025-03-23T17:18:08.384495",
     "status": "completed"
    },
    "tags": []
   },
   "outputs": [
    {
     "data": {
      "text/html": [
       "<div>\n",
       "<style scoped>\n",
       "    .dataframe tbody tr th:only-of-type {\n",
       "        vertical-align: middle;\n",
       "    }\n",
       "\n",
       "    .dataframe tbody tr th {\n",
       "        vertical-align: top;\n",
       "    }\n",
       "\n",
       "    .dataframe thead th {\n",
       "        text-align: right;\n",
       "    }\n",
       "</style>\n",
       "<table border=\"1\" class=\"dataframe\">\n",
       "  <thead>\n",
       "    <tr style=\"text-align: right;\">\n",
       "      <th></th>\n",
       "      <th>country</th>\n",
       "      <th>store</th>\n",
       "      <th>product</th>\n",
       "      <th>Year</th>\n",
       "      <th>Month</th>\n",
       "      <th>Day</th>\n",
       "      <th>weekday</th>\n",
       "      <th>is_weekend</th>\n",
       "    </tr>\n",
       "  </thead>\n",
       "  <tbody>\n",
       "    <tr>\n",
       "      <th>0</th>\n",
       "      <td>Canada</td>\n",
       "      <td>Discount Stickers</td>\n",
       "      <td>Kaggle</td>\n",
       "      <td>2010</td>\n",
       "      <td>1</td>\n",
       "      <td>1</td>\n",
       "      <td>4</td>\n",
       "      <td>0</td>\n",
       "    </tr>\n",
       "    <tr>\n",
       "      <th>1</th>\n",
       "      <td>Canada</td>\n",
       "      <td>Discount Stickers</td>\n",
       "      <td>Kaggle Tiers</td>\n",
       "      <td>2010</td>\n",
       "      <td>1</td>\n",
       "      <td>1</td>\n",
       "      <td>4</td>\n",
       "      <td>0</td>\n",
       "    </tr>\n",
       "    <tr>\n",
       "      <th>2</th>\n",
       "      <td>Canada</td>\n",
       "      <td>Discount Stickers</td>\n",
       "      <td>Kerneler</td>\n",
       "      <td>2010</td>\n",
       "      <td>1</td>\n",
       "      <td>1</td>\n",
       "      <td>4</td>\n",
       "      <td>0</td>\n",
       "    </tr>\n",
       "    <tr>\n",
       "      <th>3</th>\n",
       "      <td>Canada</td>\n",
       "      <td>Discount Stickers</td>\n",
       "      <td>Kerneler Dark Mode</td>\n",
       "      <td>2010</td>\n",
       "      <td>1</td>\n",
       "      <td>1</td>\n",
       "      <td>4</td>\n",
       "      <td>0</td>\n",
       "    </tr>\n",
       "    <tr>\n",
       "      <th>4</th>\n",
       "      <td>Canada</td>\n",
       "      <td>Stickers for Less</td>\n",
       "      <td>Holographic Goose</td>\n",
       "      <td>2010</td>\n",
       "      <td>1</td>\n",
       "      <td>1</td>\n",
       "      <td>4</td>\n",
       "      <td>0</td>\n",
       "    </tr>\n",
       "    <tr>\n",
       "      <th>...</th>\n",
       "      <td>...</td>\n",
       "      <td>...</td>\n",
       "      <td>...</td>\n",
       "      <td>...</td>\n",
       "      <td>...</td>\n",
       "      <td>...</td>\n",
       "      <td>...</td>\n",
       "      <td>...</td>\n",
       "    </tr>\n",
       "    <tr>\n",
       "      <th>221254</th>\n",
       "      <td>Singapore</td>\n",
       "      <td>Premium Sticker Mart</td>\n",
       "      <td>Holographic Goose</td>\n",
       "      <td>2016</td>\n",
       "      <td>12</td>\n",
       "      <td>31</td>\n",
       "      <td>5</td>\n",
       "      <td>1</td>\n",
       "    </tr>\n",
       "    <tr>\n",
       "      <th>221255</th>\n",
       "      <td>Singapore</td>\n",
       "      <td>Premium Sticker Mart</td>\n",
       "      <td>Kaggle</td>\n",
       "      <td>2016</td>\n",
       "      <td>12</td>\n",
       "      <td>31</td>\n",
       "      <td>5</td>\n",
       "      <td>1</td>\n",
       "    </tr>\n",
       "    <tr>\n",
       "      <th>221256</th>\n",
       "      <td>Singapore</td>\n",
       "      <td>Premium Sticker Mart</td>\n",
       "      <td>Kaggle Tiers</td>\n",
       "      <td>2016</td>\n",
       "      <td>12</td>\n",
       "      <td>31</td>\n",
       "      <td>5</td>\n",
       "      <td>1</td>\n",
       "    </tr>\n",
       "    <tr>\n",
       "      <th>221257</th>\n",
       "      <td>Singapore</td>\n",
       "      <td>Premium Sticker Mart</td>\n",
       "      <td>Kerneler</td>\n",
       "      <td>2016</td>\n",
       "      <td>12</td>\n",
       "      <td>31</td>\n",
       "      <td>5</td>\n",
       "      <td>1</td>\n",
       "    </tr>\n",
       "    <tr>\n",
       "      <th>221258</th>\n",
       "      <td>Singapore</td>\n",
       "      <td>Premium Sticker Mart</td>\n",
       "      <td>Kerneler Dark Mode</td>\n",
       "      <td>2016</td>\n",
       "      <td>12</td>\n",
       "      <td>31</td>\n",
       "      <td>5</td>\n",
       "      <td>1</td>\n",
       "    </tr>\n",
       "  </tbody>\n",
       "</table>\n",
       "<p>221259 rows × 8 columns</p>\n",
       "</div>"
      ],
      "text/plain": [
       "          country                 store             product  Year  Month  Day  \\\n",
       "0          Canada     Discount Stickers              Kaggle  2010      1    1   \n",
       "1          Canada     Discount Stickers        Kaggle Tiers  2010      1    1   \n",
       "2          Canada     Discount Stickers            Kerneler  2010      1    1   \n",
       "3          Canada     Discount Stickers  Kerneler Dark Mode  2010      1    1   \n",
       "4          Canada     Stickers for Less   Holographic Goose  2010      1    1   \n",
       "...           ...                   ...                 ...   ...    ...  ...   \n",
       "221254  Singapore  Premium Sticker Mart   Holographic Goose  2016     12   31   \n",
       "221255  Singapore  Premium Sticker Mart              Kaggle  2016     12   31   \n",
       "221256  Singapore  Premium Sticker Mart        Kaggle Tiers  2016     12   31   \n",
       "221257  Singapore  Premium Sticker Mart            Kerneler  2016     12   31   \n",
       "221258  Singapore  Premium Sticker Mart  Kerneler Dark Mode  2016     12   31   \n",
       "\n",
       "        weekday  is_weekend  \n",
       "0             4           0  \n",
       "1             4           0  \n",
       "2             4           0  \n",
       "3             4           0  \n",
       "4             4           0  \n",
       "...         ...         ...  \n",
       "221254        5           1  \n",
       "221255        5           1  \n",
       "221256        5           1  \n",
       "221257        5           1  \n",
       "221258        5           1  \n",
       "\n",
       "[221259 rows x 8 columns]"
      ]
     },
     "execution_count": 23,
     "metadata": {},
     "output_type": "execute_result"
    }
   ],
   "source": [
    "train_x"
   ]
  },
  {
   "cell_type": "code",
   "execution_count": 24,
   "id": "c83976ea",
   "metadata": {
    "execution": {
     "iopub.execute_input": "2025-03-23T17:18:08.457835Z",
     "iopub.status.busy": "2025-03-23T17:18:08.457487Z",
     "iopub.status.idle": "2025-03-23T17:18:08.467216Z",
     "shell.execute_reply": "2025-03-23T17:18:08.466198Z"
    },
    "papermill": {
     "duration": 0.031523,
     "end_time": "2025-03-23T17:18:08.468885",
     "exception": false,
     "start_time": "2025-03-23T17:18:08.437362",
     "status": "completed"
    },
    "tags": []
   },
   "outputs": [
    {
     "data": {
      "text/plain": [
       "Year\n",
       "2014    31823\n",
       "2016    31767\n",
       "2013    31721\n",
       "2012    31719\n",
       "2015    31643\n",
       "2011    31445\n",
       "2010    31141\n",
       "Name: count, dtype: int64"
      ]
     },
     "execution_count": 24,
     "metadata": {},
     "output_type": "execute_result"
    }
   ],
   "source": [
    "train_x.Year.value_counts()"
   ]
  },
  {
   "cell_type": "markdown",
   "id": "bb4698b0",
   "metadata": {
    "papermill": {
     "duration": 0.017943,
     "end_time": "2025-03-23T17:18:08.505407",
     "exception": false,
     "start_time": "2025-03-23T17:18:08.487464",
     "status": "completed"
    },
    "tags": []
   },
   "source": [
    "# Preprocess the dataset by scaling numerical features and encoding categorical features with pipeline and column transformer."
   ]
  },
  {
   "cell_type": "code",
   "execution_count": 25,
   "id": "574646a3",
   "metadata": {
    "execution": {
     "iopub.execute_input": "2025-03-23T17:18:08.543376Z",
     "iopub.status.busy": "2025-03-23T17:18:08.542966Z",
     "iopub.status.idle": "2025-03-23T17:18:08.548607Z",
     "shell.execute_reply": "2025-03-23T17:18:08.547688Z"
    },
    "papermill": {
     "duration": 0.0266,
     "end_time": "2025-03-23T17:18:08.550272",
     "exception": false,
     "start_time": "2025-03-23T17:18:08.523672",
     "status": "completed"
    },
    "tags": []
   },
   "outputs": [],
   "source": [
    "categorical_features = ['country','store','product']\n",
    "numeric_features = ['Year','Month','Day','weekday','is_weekend']\n",
    "numeric_transformer = Pipeline(steps=[ \n",
    "    ('scaler', StandardScaler())  \n",
    "])\n",
    "\n",
    "categorical_transformer = Pipeline(steps=[\n",
    "    ('onehot', OneHotEncoder(drop='first', sparse_output=False))  \n",
    "])\n",
    "\n",
    "preprocessor = ColumnTransformer(transformers=[\n",
    "    ('num', numeric_transformer, numeric_features),\n",
    "    ('cat', categorical_transformer, categorical_features)\n",
    "]).set_output(transform='pandas')"
   ]
  },
  {
   "cell_type": "markdown",
   "id": "b38bcab4",
   "metadata": {
    "papermill": {
     "duration": 0.018225,
     "end_time": "2025-03-23T17:18:08.586849",
     "exception": false,
     "start_time": "2025-03-23T17:18:08.568624",
     "status": "completed"
    },
    "tags": []
   },
   "source": [
    "# Splitting the dataset"
   ]
  },
  {
   "cell_type": "code",
   "execution_count": 26,
   "id": "a397c23e",
   "metadata": {
    "execution": {
     "iopub.execute_input": "2025-03-23T17:18:08.625012Z",
     "iopub.status.busy": "2025-03-23T17:18:08.624674Z",
     "iopub.status.idle": "2025-03-23T17:18:08.670366Z",
     "shell.execute_reply": "2025-03-23T17:18:08.669371Z"
    },
    "papermill": {
     "duration": 0.067108,
     "end_time": "2025-03-23T17:18:08.672408",
     "exception": false,
     "start_time": "2025-03-23T17:18:08.605300",
     "status": "completed"
    },
    "tags": []
   },
   "outputs": [],
   "source": [
    "X_train, X_test, y_train, y_test = train_test_split(train_x, train_y, test_size=0.2, random_state=42)"
   ]
  },
  {
   "cell_type": "code",
   "execution_count": 27,
   "id": "027d9edf",
   "metadata": {
    "execution": {
     "iopub.execute_input": "2025-03-23T17:18:08.710667Z",
     "iopub.status.busy": "2025-03-23T17:18:08.710284Z",
     "iopub.status.idle": "2025-03-23T17:18:09.031647Z",
     "shell.execute_reply": "2025-03-23T17:18:09.030655Z"
    },
    "papermill": {
     "duration": 0.342885,
     "end_time": "2025-03-23T17:18:09.033562",
     "exception": false,
     "start_time": "2025-03-23T17:18:08.690677",
     "status": "completed"
    },
    "tags": []
   },
   "outputs": [],
   "source": [
    "x_train_p=preprocessor.fit_transform(X_train)\n",
    "x_test_p=preprocessor.transform(X_test)"
   ]
  },
  {
   "cell_type": "code",
   "execution_count": 28,
   "id": "7eec2a9a",
   "metadata": {
    "execution": {
     "iopub.execute_input": "2025-03-23T17:18:09.071887Z",
     "iopub.status.busy": "2025-03-23T17:18:09.071524Z",
     "iopub.status.idle": "2025-03-23T17:18:09.097582Z",
     "shell.execute_reply": "2025-03-23T17:18:09.096574Z"
    },
    "papermill": {
     "duration": 0.046802,
     "end_time": "2025-03-23T17:18:09.099211",
     "exception": false,
     "start_time": "2025-03-23T17:18:09.052409",
     "status": "completed"
    },
    "tags": []
   },
   "outputs": [
    {
     "data": {
      "text/html": [
       "<div>\n",
       "<style scoped>\n",
       "    .dataframe tbody tr th:only-of-type {\n",
       "        vertical-align: middle;\n",
       "    }\n",
       "\n",
       "    .dataframe tbody tr th {\n",
       "        vertical-align: top;\n",
       "    }\n",
       "\n",
       "    .dataframe thead th {\n",
       "        text-align: right;\n",
       "    }\n",
       "</style>\n",
       "<table border=\"1\" class=\"dataframe\">\n",
       "  <thead>\n",
       "    <tr style=\"text-align: right;\">\n",
       "      <th></th>\n",
       "      <th>num__Year</th>\n",
       "      <th>num__Month</th>\n",
       "      <th>num__Day</th>\n",
       "      <th>num__weekday</th>\n",
       "      <th>num__is_weekend</th>\n",
       "      <th>cat__country_Finland</th>\n",
       "      <th>cat__country_Italy</th>\n",
       "      <th>cat__country_Kenya</th>\n",
       "      <th>cat__country_Norway</th>\n",
       "      <th>cat__country_Singapore</th>\n",
       "      <th>cat__store_Premium Sticker Mart</th>\n",
       "      <th>cat__store_Stickers for Less</th>\n",
       "      <th>cat__product_Kaggle</th>\n",
       "      <th>cat__product_Kaggle Tiers</th>\n",
       "      <th>cat__product_Kerneler</th>\n",
       "      <th>cat__product_Kerneler Dark Mode</th>\n",
       "    </tr>\n",
       "  </thead>\n",
       "  <tbody>\n",
       "    <tr>\n",
       "      <th>105179</th>\n",
       "      <td>-0.002947</td>\n",
       "      <td>-0.441297</td>\n",
       "      <td>-1.220526</td>\n",
       "      <td>1.493082</td>\n",
       "      <td>1.571833</td>\n",
       "      <td>0.0</td>\n",
       "      <td>1.0</td>\n",
       "      <td>0.0</td>\n",
       "      <td>0.0</td>\n",
       "      <td>0.0</td>\n",
       "      <td>1.0</td>\n",
       "      <td>0.0</td>\n",
       "      <td>0.0</td>\n",
       "      <td>0.0</td>\n",
       "      <td>0.0</td>\n",
       "      <td>1.0</td>\n",
       "    </tr>\n",
       "    <tr>\n",
       "      <th>35062</th>\n",
       "      <td>-1.004272</td>\n",
       "      <td>-1.308450</td>\n",
       "      <td>-0.083748</td>\n",
       "      <td>-1.005504</td>\n",
       "      <td>-0.636200</td>\n",
       "      <td>0.0</td>\n",
       "      <td>0.0</td>\n",
       "      <td>0.0</td>\n",
       "      <td>0.0</td>\n",
       "      <td>0.0</td>\n",
       "      <td>0.0</td>\n",
       "      <td>0.0</td>\n",
       "      <td>0.0</td>\n",
       "      <td>0.0</td>\n",
       "      <td>1.0</td>\n",
       "      <td>0.0</td>\n",
       "    </tr>\n",
       "    <tr>\n",
       "      <th>8150</th>\n",
       "      <td>-1.504934</td>\n",
       "      <td>-0.730348</td>\n",
       "      <td>-1.106848</td>\n",
       "      <td>-1.005504</td>\n",
       "      <td>-0.636200</td>\n",
       "      <td>0.0</td>\n",
       "      <td>1.0</td>\n",
       "      <td>0.0</td>\n",
       "      <td>0.0</td>\n",
       "      <td>0.0</td>\n",
       "      <td>0.0</td>\n",
       "      <td>0.0</td>\n",
       "      <td>0.0</td>\n",
       "      <td>0.0</td>\n",
       "      <td>1.0</td>\n",
       "      <td>0.0</td>\n",
       "    </tr>\n",
       "    <tr>\n",
       "      <th>52514</th>\n",
       "      <td>-1.004272</td>\n",
       "      <td>0.714908</td>\n",
       "      <td>-1.106848</td>\n",
       "      <td>-1.005504</td>\n",
       "      <td>-0.636200</td>\n",
       "      <td>0.0</td>\n",
       "      <td>0.0</td>\n",
       "      <td>0.0</td>\n",
       "      <td>1.0</td>\n",
       "      <td>0.0</td>\n",
       "      <td>0.0</td>\n",
       "      <td>0.0</td>\n",
       "      <td>1.0</td>\n",
       "      <td>0.0</td>\n",
       "      <td>0.0</td>\n",
       "      <td>0.0</td>\n",
       "    </tr>\n",
       "    <tr>\n",
       "      <th>115743</th>\n",
       "      <td>-0.002947</td>\n",
       "      <td>0.714908</td>\n",
       "      <td>-1.220526</td>\n",
       "      <td>-0.006070</td>\n",
       "      <td>-0.636200</td>\n",
       "      <td>0.0</td>\n",
       "      <td>0.0</td>\n",
       "      <td>1.0</td>\n",
       "      <td>0.0</td>\n",
       "      <td>0.0</td>\n",
       "      <td>0.0</td>\n",
       "      <td>0.0</td>\n",
       "      <td>0.0</td>\n",
       "      <td>0.0</td>\n",
       "      <td>0.0</td>\n",
       "      <td>1.0</td>\n",
       "    </tr>\n",
       "    <tr>\n",
       "      <th>...</th>\n",
       "      <td>...</td>\n",
       "      <td>...</td>\n",
       "      <td>...</td>\n",
       "      <td>...</td>\n",
       "      <td>...</td>\n",
       "      <td>...</td>\n",
       "      <td>...</td>\n",
       "      <td>...</td>\n",
       "      <td>...</td>\n",
       "      <td>...</td>\n",
       "      <td>...</td>\n",
       "      <td>...</td>\n",
       "      <td>...</td>\n",
       "      <td>...</td>\n",
       "      <td>...</td>\n",
       "      <td>...</td>\n",
       "    </tr>\n",
       "    <tr>\n",
       "      <th>119879</th>\n",
       "      <td>-0.002947</td>\n",
       "      <td>1.003959</td>\n",
       "      <td>0.825674</td>\n",
       "      <td>-0.505787</td>\n",
       "      <td>-0.636200</td>\n",
       "      <td>0.0</td>\n",
       "      <td>0.0</td>\n",
       "      <td>0.0</td>\n",
       "      <td>0.0</td>\n",
       "      <td>0.0</td>\n",
       "      <td>0.0</td>\n",
       "      <td>0.0</td>\n",
       "      <td>0.0</td>\n",
       "      <td>1.0</td>\n",
       "      <td>0.0</td>\n",
       "      <td>0.0</td>\n",
       "    </tr>\n",
       "    <tr>\n",
       "      <th>103694</th>\n",
       "      <td>-0.002947</td>\n",
       "      <td>-0.730348</td>\n",
       "      <td>0.257285</td>\n",
       "      <td>-0.006070</td>\n",
       "      <td>-0.636200</td>\n",
       "      <td>0.0</td>\n",
       "      <td>1.0</td>\n",
       "      <td>0.0</td>\n",
       "      <td>0.0</td>\n",
       "      <td>0.0</td>\n",
       "      <td>0.0</td>\n",
       "      <td>0.0</td>\n",
       "      <td>0.0</td>\n",
       "      <td>0.0</td>\n",
       "      <td>0.0</td>\n",
       "      <td>0.0</td>\n",
       "    </tr>\n",
       "    <tr>\n",
       "      <th>131932</th>\n",
       "      <td>0.497715</td>\n",
       "      <td>-1.019399</td>\n",
       "      <td>-0.765815</td>\n",
       "      <td>1.493082</td>\n",
       "      <td>1.571833</td>\n",
       "      <td>1.0</td>\n",
       "      <td>0.0</td>\n",
       "      <td>0.0</td>\n",
       "      <td>0.0</td>\n",
       "      <td>0.0</td>\n",
       "      <td>0.0</td>\n",
       "      <td>0.0</td>\n",
       "      <td>0.0</td>\n",
       "      <td>1.0</td>\n",
       "      <td>0.0</td>\n",
       "      <td>0.0</td>\n",
       "    </tr>\n",
       "    <tr>\n",
       "      <th>146867</th>\n",
       "      <td>0.497715</td>\n",
       "      <td>0.425857</td>\n",
       "      <td>1.394063</td>\n",
       "      <td>-0.006070</td>\n",
       "      <td>-0.636200</td>\n",
       "      <td>0.0</td>\n",
       "      <td>0.0</td>\n",
       "      <td>0.0</td>\n",
       "      <td>1.0</td>\n",
       "      <td>0.0</td>\n",
       "      <td>0.0</td>\n",
       "      <td>1.0</td>\n",
       "      <td>0.0</td>\n",
       "      <td>0.0</td>\n",
       "      <td>0.0</td>\n",
       "      <td>0.0</td>\n",
       "    </tr>\n",
       "    <tr>\n",
       "      <th>121958</th>\n",
       "      <td>-0.002947</td>\n",
       "      <td>1.293010</td>\n",
       "      <td>-0.083748</td>\n",
       "      <td>0.493647</td>\n",
       "      <td>-0.636200</td>\n",
       "      <td>0.0</td>\n",
       "      <td>0.0</td>\n",
       "      <td>0.0</td>\n",
       "      <td>1.0</td>\n",
       "      <td>0.0</td>\n",
       "      <td>0.0</td>\n",
       "      <td>0.0</td>\n",
       "      <td>0.0</td>\n",
       "      <td>0.0</td>\n",
       "      <td>1.0</td>\n",
       "      <td>0.0</td>\n",
       "    </tr>\n",
       "  </tbody>\n",
       "</table>\n",
       "<p>177007 rows × 16 columns</p>\n",
       "</div>"
      ],
      "text/plain": [
       "        num__Year  num__Month  num__Day  num__weekday  num__is_weekend  \\\n",
       "105179  -0.002947   -0.441297 -1.220526      1.493082         1.571833   \n",
       "35062   -1.004272   -1.308450 -0.083748     -1.005504        -0.636200   \n",
       "8150    -1.504934   -0.730348 -1.106848     -1.005504        -0.636200   \n",
       "52514   -1.004272    0.714908 -1.106848     -1.005504        -0.636200   \n",
       "115743  -0.002947    0.714908 -1.220526     -0.006070        -0.636200   \n",
       "...           ...         ...       ...           ...              ...   \n",
       "119879  -0.002947    1.003959  0.825674     -0.505787        -0.636200   \n",
       "103694  -0.002947   -0.730348  0.257285     -0.006070        -0.636200   \n",
       "131932   0.497715   -1.019399 -0.765815      1.493082         1.571833   \n",
       "146867   0.497715    0.425857  1.394063     -0.006070        -0.636200   \n",
       "121958  -0.002947    1.293010 -0.083748      0.493647        -0.636200   \n",
       "\n",
       "        cat__country_Finland  cat__country_Italy  cat__country_Kenya  \\\n",
       "105179                   0.0                 1.0                 0.0   \n",
       "35062                    0.0                 0.0                 0.0   \n",
       "8150                     0.0                 1.0                 0.0   \n",
       "52514                    0.0                 0.0                 0.0   \n",
       "115743                   0.0                 0.0                 1.0   \n",
       "...                      ...                 ...                 ...   \n",
       "119879                   0.0                 0.0                 0.0   \n",
       "103694                   0.0                 1.0                 0.0   \n",
       "131932                   1.0                 0.0                 0.0   \n",
       "146867                   0.0                 0.0                 0.0   \n",
       "121958                   0.0                 0.0                 0.0   \n",
       "\n",
       "        cat__country_Norway  cat__country_Singapore  \\\n",
       "105179                  0.0                     0.0   \n",
       "35062                   0.0                     0.0   \n",
       "8150                    0.0                     0.0   \n",
       "52514                   1.0                     0.0   \n",
       "115743                  0.0                     0.0   \n",
       "...                     ...                     ...   \n",
       "119879                  0.0                     0.0   \n",
       "103694                  0.0                     0.0   \n",
       "131932                  0.0                     0.0   \n",
       "146867                  1.0                     0.0   \n",
       "121958                  1.0                     0.0   \n",
       "\n",
       "        cat__store_Premium Sticker Mart  cat__store_Stickers for Less  \\\n",
       "105179                              1.0                           0.0   \n",
       "35062                               0.0                           0.0   \n",
       "8150                                0.0                           0.0   \n",
       "52514                               0.0                           0.0   \n",
       "115743                              0.0                           0.0   \n",
       "...                                 ...                           ...   \n",
       "119879                              0.0                           0.0   \n",
       "103694                              0.0                           0.0   \n",
       "131932                              0.0                           0.0   \n",
       "146867                              0.0                           1.0   \n",
       "121958                              0.0                           0.0   \n",
       "\n",
       "        cat__product_Kaggle  cat__product_Kaggle Tiers  cat__product_Kerneler  \\\n",
       "105179                  0.0                        0.0                    0.0   \n",
       "35062                   0.0                        0.0                    1.0   \n",
       "8150                    0.0                        0.0                    1.0   \n",
       "52514                   1.0                        0.0                    0.0   \n",
       "115743                  0.0                        0.0                    0.0   \n",
       "...                     ...                        ...                    ...   \n",
       "119879                  0.0                        1.0                    0.0   \n",
       "103694                  0.0                        0.0                    0.0   \n",
       "131932                  0.0                        1.0                    0.0   \n",
       "146867                  0.0                        0.0                    0.0   \n",
       "121958                  0.0                        0.0                    1.0   \n",
       "\n",
       "        cat__product_Kerneler Dark Mode  \n",
       "105179                              1.0  \n",
       "35062                               0.0  \n",
       "8150                                0.0  \n",
       "52514                               0.0  \n",
       "115743                              1.0  \n",
       "...                                 ...  \n",
       "119879                              0.0  \n",
       "103694                              0.0  \n",
       "131932                              0.0  \n",
       "146867                              0.0  \n",
       "121958                              0.0  \n",
       "\n",
       "[177007 rows x 16 columns]"
      ]
     },
     "execution_count": 28,
     "metadata": {},
     "output_type": "execute_result"
    }
   ],
   "source": [
    "x_train_p"
   ]
  },
  {
   "cell_type": "markdown",
   "id": "1bbab74f",
   "metadata": {
    "papermill": {
     "duration": 0.018321,
     "end_time": "2025-03-23T17:18:09.136294",
     "exception": false,
     "start_time": "2025-03-23T17:18:09.117973",
     "status": "completed"
    },
    "tags": []
   },
   "source": [
    "# Model-1(XGBRegressor)"
   ]
  },
  {
   "cell_type": "code",
   "execution_count": 29,
   "id": "f55b7fa7",
   "metadata": {
    "execution": {
     "iopub.execute_input": "2025-03-23T17:18:09.174829Z",
     "iopub.status.busy": "2025-03-23T17:18:09.174483Z",
     "iopub.status.idle": "2025-03-23T17:18:23.939460Z",
     "shell.execute_reply": "2025-03-23T17:18:23.938038Z"
    },
    "papermill": {
     "duration": 14.786946,
     "end_time": "2025-03-23T17:18:23.941683",
     "exception": false,
     "start_time": "2025-03-23T17:18:09.154737",
     "status": "completed"
    },
    "tags": []
   },
   "outputs": [
    {
     "data": {
      "text/html": [
       "<style>#sk-container-id-1 {color: black;background-color: white;}#sk-container-id-1 pre{padding: 0;}#sk-container-id-1 div.sk-toggleable {background-color: white;}#sk-container-id-1 label.sk-toggleable__label {cursor: pointer;display: block;width: 100%;margin-bottom: 0;padding: 0.3em;box-sizing: border-box;text-align: center;}#sk-container-id-1 label.sk-toggleable__label-arrow:before {content: \"▸\";float: left;margin-right: 0.25em;color: #696969;}#sk-container-id-1 label.sk-toggleable__label-arrow:hover:before {color: black;}#sk-container-id-1 div.sk-estimator:hover label.sk-toggleable__label-arrow:before {color: black;}#sk-container-id-1 div.sk-toggleable__content {max-height: 0;max-width: 0;overflow: hidden;text-align: left;background-color: #f0f8ff;}#sk-container-id-1 div.sk-toggleable__content pre {margin: 0.2em;color: black;border-radius: 0.25em;background-color: #f0f8ff;}#sk-container-id-1 input.sk-toggleable__control:checked~div.sk-toggleable__content {max-height: 200px;max-width: 100%;overflow: auto;}#sk-container-id-1 input.sk-toggleable__control:checked~label.sk-toggleable__label-arrow:before {content: \"▾\";}#sk-container-id-1 div.sk-estimator input.sk-toggleable__control:checked~label.sk-toggleable__label {background-color: #d4ebff;}#sk-container-id-1 div.sk-label input.sk-toggleable__control:checked~label.sk-toggleable__label {background-color: #d4ebff;}#sk-container-id-1 input.sk-hidden--visually {border: 0;clip: rect(1px 1px 1px 1px);clip: rect(1px, 1px, 1px, 1px);height: 1px;margin: -1px;overflow: hidden;padding: 0;position: absolute;width: 1px;}#sk-container-id-1 div.sk-estimator {font-family: monospace;background-color: #f0f8ff;border: 1px dotted black;border-radius: 0.25em;box-sizing: border-box;margin-bottom: 0.5em;}#sk-container-id-1 div.sk-estimator:hover {background-color: #d4ebff;}#sk-container-id-1 div.sk-parallel-item::after {content: \"\";width: 100%;border-bottom: 1px solid gray;flex-grow: 1;}#sk-container-id-1 div.sk-label:hover label.sk-toggleable__label {background-color: #d4ebff;}#sk-container-id-1 div.sk-serial::before {content: \"\";position: absolute;border-left: 1px solid gray;box-sizing: border-box;top: 0;bottom: 0;left: 50%;z-index: 0;}#sk-container-id-1 div.sk-serial {display: flex;flex-direction: column;align-items: center;background-color: white;padding-right: 0.2em;padding-left: 0.2em;position: relative;}#sk-container-id-1 div.sk-item {position: relative;z-index: 1;}#sk-container-id-1 div.sk-parallel {display: flex;align-items: stretch;justify-content: center;background-color: white;position: relative;}#sk-container-id-1 div.sk-item::before, #sk-container-id-1 div.sk-parallel-item::before {content: \"\";position: absolute;border-left: 1px solid gray;box-sizing: border-box;top: 0;bottom: 0;left: 50%;z-index: -1;}#sk-container-id-1 div.sk-parallel-item {display: flex;flex-direction: column;z-index: 1;position: relative;background-color: white;}#sk-container-id-1 div.sk-parallel-item:first-child::after {align-self: flex-end;width: 50%;}#sk-container-id-1 div.sk-parallel-item:last-child::after {align-self: flex-start;width: 50%;}#sk-container-id-1 div.sk-parallel-item:only-child::after {width: 0;}#sk-container-id-1 div.sk-dashed-wrapped {border: 1px dashed gray;margin: 0 0.4em 0.5em 0.4em;box-sizing: border-box;padding-bottom: 0.4em;background-color: white;}#sk-container-id-1 div.sk-label label {font-family: monospace;font-weight: bold;display: inline-block;line-height: 1.2em;}#sk-container-id-1 div.sk-label-container {text-align: center;}#sk-container-id-1 div.sk-container {/* jupyter's `normalize.less` sets `[hidden] { display: none; }` but bootstrap.min.css set `[hidden] { display: none !important; }` so we also need the `!important` here to be able to override the default hidden behavior on the sphinx rendered scikit-learn.org. See: https://github.com/scikit-learn/scikit-learn/issues/21755 */display: inline-block !important;position: relative;}#sk-container-id-1 div.sk-text-repr-fallback {display: none;}</style><div id=\"sk-container-id-1\" class=\"sk-top-container\"><div class=\"sk-text-repr-fallback\"><pre>XGBRegressor(base_score=None, booster=None, callbacks=None,\n",
       "             colsample_bylevel=None, colsample_bynode=None,\n",
       "             colsample_bytree=None, device=None, early_stopping_rounds=None,\n",
       "             enable_categorical=False, eval_metric=None, feature_types=None,\n",
       "             gamma=None, grow_policy=None, importance_type=None,\n",
       "             interaction_constraints=None, learning_rate=None, max_bin=None,\n",
       "             max_cat_threshold=None, max_cat_to_onehot=None,\n",
       "             max_delta_step=None, max_depth=None, max_leaves=None,\n",
       "             min_child_weight=None, missing=nan, monotone_constraints=None,\n",
       "             multi_strategy=None, n_estimators=2000, n_jobs=None,\n",
       "             num_parallel_tree=None, random_state=42, ...)</pre><b>In a Jupyter environment, please rerun this cell to show the HTML representation or trust the notebook. <br />On GitHub, the HTML representation is unable to render, please try loading this page with nbviewer.org.</b></div><div class=\"sk-container\" hidden><div class=\"sk-item\"><div class=\"sk-estimator sk-toggleable\"><input class=\"sk-toggleable__control sk-hidden--visually\" id=\"sk-estimator-id-1\" type=\"checkbox\" checked><label for=\"sk-estimator-id-1\" class=\"sk-toggleable__label sk-toggleable__label-arrow\">XGBRegressor</label><div class=\"sk-toggleable__content\"><pre>XGBRegressor(base_score=None, booster=None, callbacks=None,\n",
       "             colsample_bylevel=None, colsample_bynode=None,\n",
       "             colsample_bytree=None, device=None, early_stopping_rounds=None,\n",
       "             enable_categorical=False, eval_metric=None, feature_types=None,\n",
       "             gamma=None, grow_policy=None, importance_type=None,\n",
       "             interaction_constraints=None, learning_rate=None, max_bin=None,\n",
       "             max_cat_threshold=None, max_cat_to_onehot=None,\n",
       "             max_delta_step=None, max_depth=None, max_leaves=None,\n",
       "             min_child_weight=None, missing=nan, monotone_constraints=None,\n",
       "             multi_strategy=None, n_estimators=2000, n_jobs=None,\n",
       "             num_parallel_tree=None, random_state=42, ...)</pre></div></div></div></div></div>"
      ],
      "text/plain": [
       "XGBRegressor(base_score=None, booster=None, callbacks=None,\n",
       "             colsample_bylevel=None, colsample_bynode=None,\n",
       "             colsample_bytree=None, device=None, early_stopping_rounds=None,\n",
       "             enable_categorical=False, eval_metric=None, feature_types=None,\n",
       "             gamma=None, grow_policy=None, importance_type=None,\n",
       "             interaction_constraints=None, learning_rate=None, max_bin=None,\n",
       "             max_cat_threshold=None, max_cat_to_onehot=None,\n",
       "             max_delta_step=None, max_depth=None, max_leaves=None,\n",
       "             min_child_weight=None, missing=nan, monotone_constraints=None,\n",
       "             multi_strategy=None, n_estimators=2000, n_jobs=None,\n",
       "             num_parallel_tree=None, random_state=42, ...)"
      ]
     },
     "execution_count": 29,
     "metadata": {},
     "output_type": "execute_result"
    }
   ],
   "source": [
    "model1=XGBRegressor(n_estimators=2000,random_state=42)\n",
    "model1.fit(x_train_p,y_train)"
   ]
  },
  {
   "cell_type": "code",
   "execution_count": 30,
   "id": "2633e91f",
   "metadata": {
    "execution": {
     "iopub.execute_input": "2025-03-23T17:18:23.999092Z",
     "iopub.status.busy": "2025-03-23T17:18:23.998689Z",
     "iopub.status.idle": "2025-03-23T17:18:24.909218Z",
     "shell.execute_reply": "2025-03-23T17:18:24.908249Z"
    },
    "papermill": {
     "duration": 0.938928,
     "end_time": "2025-03-23T17:18:24.911276",
     "exception": false,
     "start_time": "2025-03-23T17:18:23.972348",
     "status": "completed"
    },
    "tags": []
   },
   "outputs": [
    {
     "name": "stdout",
     "output_type": "stream",
     "text": [
      "0.14422026800500656\n"
     ]
    }
   ],
   "source": [
    "y_pred1 = model1.predict(x_test_p)\n",
    "mape_score1 = mean_absolute_percentage_error(y_test, y_pred1)\n",
    "print(mape_score1)"
   ]
  },
  {
   "cell_type": "code",
   "execution_count": 31,
   "id": "a4307a04",
   "metadata": {
    "execution": {
     "iopub.execute_input": "2025-03-23T17:18:24.953378Z",
     "iopub.status.busy": "2025-03-23T17:18:24.952983Z",
     "iopub.status.idle": "2025-03-23T17:18:25.841808Z",
     "shell.execute_reply": "2025-03-23T17:18:25.840824Z"
    },
    "papermill": {
     "duration": 0.911196,
     "end_time": "2025-03-23T17:18:25.843813",
     "exception": false,
     "start_time": "2025-03-23T17:18:24.932617",
     "status": "completed"
    },
    "tags": []
   },
   "outputs": [
    {
     "name": "stdout",
     "output_type": "stream",
     "text": [
      "R² Score: 0.9929\n"
     ]
    }
   ],
   "source": [
    "r2_score1 = model1.score(x_test_p, y_test)\n",
    "print(f'R² Score: {r2_score1:.4f}')"
   ]
  },
  {
   "cell_type": "markdown",
   "id": "6fd59a96",
   "metadata": {
    "papermill": {
     "duration": 0.019522,
     "end_time": "2025-03-23T17:18:25.885079",
     "exception": false,
     "start_time": "2025-03-23T17:18:25.865557",
     "status": "completed"
    },
    "tags": []
   },
   "source": [
    "# XGBRegressor with hyperparameter tuning"
   ]
  },
  {
   "cell_type": "code",
   "execution_count": 32,
   "id": "744678f0",
   "metadata": {
    "execution": {
     "iopub.execute_input": "2025-03-23T17:18:25.927875Z",
     "iopub.status.busy": "2025-03-23T17:18:25.927540Z",
     "iopub.status.idle": "2025-03-23T17:21:07.871195Z",
     "shell.execute_reply": "2025-03-23T17:21:07.870209Z"
    },
    "papermill": {
     "duration": 161.968753,
     "end_time": "2025-03-23T17:21:07.873340",
     "exception": false,
     "start_time": "2025-03-23T17:18:25.904587",
     "status": "completed"
    },
    "tags": []
   },
   "outputs": [
    {
     "name": "stdout",
     "output_type": "stream",
     "text": [
      "Best Parameters:  {'learning_rate': 0.05, 'max_depth': 8}\n",
      "0.09995422788324167\n"
     ]
    }
   ],
   "source": [
    "model2=XGBRegressor(n_estimators=2000,random_state=42)\n",
    "\n",
    "param_grid = {'learning_rate': [.01,.05],'max_depth': [5,8]}\n",
    "\n",
    "grid_search2 = GridSearchCV(model2, param_grid, cv=3, n_jobs=-1, verbose=0)\n",
    "\n",
    "grid_search2.fit(x_train_p, y_train)\n",
    "\n",
    "print(\"Best Parameters: \", grid_search2.best_params_)\n",
    "\n",
    "y_pred2 = grid_search2.predict(x_test_p)\n",
    "\n",
    "mape2 = mean_absolute_percentage_error(y_test, y_pred2)\n",
    "print(mape2)"
   ]
  },
  {
   "cell_type": "code",
   "execution_count": 33,
   "id": "37c9a4d7",
   "metadata": {
    "execution": {
     "iopub.execute_input": "2025-03-23T17:21:07.916154Z",
     "iopub.status.busy": "2025-03-23T17:21:07.915784Z",
     "iopub.status.idle": "2025-03-23T17:21:09.524359Z",
     "shell.execute_reply": "2025-03-23T17:21:09.523445Z"
    },
    "papermill": {
     "duration": 1.631983,
     "end_time": "2025-03-23T17:21:09.527098",
     "exception": false,
     "start_time": "2025-03-23T17:21:07.895115",
     "status": "completed"
    },
    "tags": []
   },
   "outputs": [
    {
     "name": "stdout",
     "output_type": "stream",
     "text": [
      "R² Score: 0.9931\n"
     ]
    }
   ],
   "source": [
    "r2_score = grid_search2.score(x_test_p, y_test)\n",
    "print(f'R² Score: {r2_score:.4f}')"
   ]
  },
  {
   "cell_type": "markdown",
   "id": "66c75caa",
   "metadata": {
    "papermill": {
     "duration": 0.019027,
     "end_time": "2025-03-23T17:21:09.568195",
     "exception": false,
     "start_time": "2025-03-23T17:21:09.549168",
     "status": "completed"
    },
    "tags": []
   },
   "source": [
    "# Model-2(LightGBM)"
   ]
  },
  {
   "cell_type": "code",
   "execution_count": 34,
   "id": "798330ab",
   "metadata": {
    "execution": {
     "iopub.execute_input": "2025-03-23T17:21:09.608261Z",
     "iopub.status.busy": "2025-03-23T17:21:09.607868Z",
     "iopub.status.idle": "2025-03-23T17:21:13.074650Z",
     "shell.execute_reply": "2025-03-23T17:21:13.073484Z"
    },
    "papermill": {
     "duration": 3.489027,
     "end_time": "2025-03-23T17:21:13.076514",
     "exception": false,
     "start_time": "2025-03-23T17:21:09.587487",
     "status": "completed"
    },
    "tags": []
   },
   "outputs": [
    {
     "name": "stdout",
     "output_type": "stream",
     "text": [
      "[LightGBM] [Warning] Found whitespace in feature_names, replace with underlines\n",
      "[LightGBM] [Info] Auto-choosing row-wise multi-threading, the overhead of testing was 0.005085 seconds.\n",
      "You can set `force_row_wise=true` to remove the overhead.\n",
      "And if memory is not enough, you can set `force_col_wise=true`.\n",
      "[LightGBM] [Info] Total Bins 86\n",
      "[LightGBM] [Info] Number of data points in the train set: 177007, number of used features: 16\n",
      "[LightGBM] [Info] Start training from score 751.724474\n",
      "0.19689805229092938\n",
      "R² Score: 0.9894\n"
     ]
    }
   ],
   "source": [
    "from lightgbm import LGBMRegressor\n",
    "model3 = LGBMRegressor(random_state=42)\n",
    "model3.fit(x_train_p, y_train)\n",
    "y_pred3 = model3.predict(x_test_p)\n",
    "mape3 = mean_absolute_percentage_error(y_test, y_pred3)\n",
    "print(mape3)\n",
    "r2_score3 = model3.score(x_test_p, y_test)\n",
    "print(f'R² Score: {r2_score3:.4f}')"
   ]
  },
  {
   "cell_type": "markdown",
   "id": "f38f714d",
   "metadata": {
    "papermill": {
     "duration": 0.019098,
     "end_time": "2025-03-23T17:21:13.115348",
     "exception": false,
     "start_time": "2025-03-23T17:21:13.096250",
     "status": "completed"
    },
    "tags": []
   },
   "source": [
    "# LightGBM with hyperparameter tuning"
   ]
  },
  {
   "cell_type": "code",
   "execution_count": 35,
   "id": "becc62f6",
   "metadata": {
    "execution": {
     "iopub.execute_input": "2025-03-23T17:21:13.155998Z",
     "iopub.status.busy": "2025-03-23T17:21:13.155312Z",
     "iopub.status.idle": "2025-03-23T17:24:43.103570Z",
     "shell.execute_reply": "2025-03-23T17:24:43.102351Z"
    },
    "papermill": {
     "duration": 209.970383,
     "end_time": "2025-03-23T17:24:43.105281",
     "exception": false,
     "start_time": "2025-03-23T17:21:13.134898",
     "status": "completed"
    },
    "tags": []
   },
   "outputs": [
    {
     "name": "stdout",
     "output_type": "stream",
     "text": [
      "[LightGBM] [Warning] Found whitespace in feature_names, replace with underlines\n",
      "[LightGBM] [Info] Auto-choosing row-wise multi-threading, the overhead of testing was 0.002560 seconds.\n",
      "You can set `force_row_wise=true` to remove the overhead.\n",
      "And if memory is not enough, you can set `force_col_wise=true`.\n",
      "[LightGBM] [Info] Total Bins 86\n",
      "[LightGBM] [Info] Number of data points in the train set: 177007, number of used features: 16\n",
      "[LightGBM] [Info] Start training from score 751.724474\n",
      "Best Parameters:  {'learning_rate': 0.05, 'max_depth': 8}\n",
      "0.10617894897511036\n"
     ]
    }
   ],
   "source": [
    "model4=LGBMRegressor(n_estimators=2000,random_state=42)\n",
    "param_grid = {'learning_rate': [.01,.05],'max_depth': [5,8]}\n",
    "grid_search4 = GridSearchCV(model4, param_grid, cv=3, n_jobs=-1, verbose=0)\n",
    "grid_search4.fit(x_train_p, y_train)\n",
    "print(\"Best Parameters: \", grid_search4.best_params_)\n",
    "y_pred4 = grid_search4.predict(x_test_p)\n",
    "mape4 = mean_absolute_percentage_error(y_test, y_pred4)\n",
    "print(mape4)"
   ]
  },
  {
   "cell_type": "markdown",
   "id": "ebc27010",
   "metadata": {
    "papermill": {
     "duration": 0.019875,
     "end_time": "2025-03-23T17:24:43.145161",
     "exception": false,
     "start_time": "2025-03-23T17:24:43.125286",
     "status": "completed"
    },
    "tags": []
   },
   "source": [
    "Best Parameters:  {'learning_rate': 0.05, 'max_depth': 8}\n",
    "\n",
    "mape4=0.10617894897511036"
   ]
  },
  {
   "cell_type": "code",
   "execution_count": 36,
   "id": "dda488b8",
   "metadata": {
    "execution": {
     "iopub.execute_input": "2025-03-23T17:24:43.186108Z",
     "iopub.status.busy": "2025-03-23T17:24:43.185734Z",
     "iopub.status.idle": "2025-03-23T17:24:54.868946Z",
     "shell.execute_reply": "2025-03-23T17:24:54.867551Z"
    },
    "papermill": {
     "duration": 11.705709,
     "end_time": "2025-03-23T17:24:54.870594",
     "exception": false,
     "start_time": "2025-03-23T17:24:43.164885",
     "status": "completed"
    },
    "tags": []
   },
   "outputs": [
    {
     "name": "stdout",
     "output_type": "stream",
     "text": [
      "[LightGBM] [Warning] Found whitespace in feature_names, replace with underlines\n",
      "[LightGBM] [Info] Auto-choosing row-wise multi-threading, the overhead of testing was 0.002422 seconds.\n",
      "You can set `force_row_wise=true` to remove the overhead.\n",
      "And if memory is not enough, you can set `force_col_wise=true`.\n",
      "[LightGBM] [Info] Total Bins 86\n",
      "[LightGBM] [Info] Number of data points in the train set: 177007, number of used features: 16\n",
      "[LightGBM] [Info] Start training from score 751.724474\n",
      "0.10089572574187845\n"
     ]
    }
   ],
   "source": [
    "model5=LGBMRegressor(n_estimators=2000,random_state=42,max_depth=8,learning_rate=0.05,\n",
    "                     reg_alpha=1,reg_lambda=1)\n",
    "model5.fit(x_train_p, y_train)\n",
    "y_pred5 = model5.predict(x_test_p)\n",
    "mape5 = mean_absolute_percentage_error(y_test, y_pred5)\n",
    "print(mape5)"
   ]
  },
  {
   "cell_type": "markdown",
   "id": "6910c73e",
   "metadata": {
    "papermill": {
     "duration": 0.019274,
     "end_time": "2025-03-23T17:24:54.909945",
     "exception": false,
     "start_time": "2025-03-23T17:24:54.890671",
     "status": "completed"
    },
    "tags": []
   },
   "source": [
    "# Model-3 (Voting Regressor)"
   ]
  },
  {
   "cell_type": "code",
   "execution_count": 37,
   "id": "038cc79e",
   "metadata": {
    "execution": {
     "iopub.execute_input": "2025-03-23T17:24:54.950503Z",
     "iopub.status.busy": "2025-03-23T17:24:54.950101Z",
     "iopub.status.idle": "2025-03-23T17:27:46.981909Z",
     "shell.execute_reply": "2025-03-23T17:27:46.980618Z"
    },
    "papermill": {
     "duration": 172.054133,
     "end_time": "2025-03-23T17:27:46.983671",
     "exception": false,
     "start_time": "2025-03-23T17:24:54.929538",
     "status": "completed"
    },
    "tags": []
   },
   "outputs": [
    {
     "name": "stderr",
     "output_type": "stream",
     "text": [
      "/usr/local/lib/python3.10/dist-packages/joblib/externals/loky/process_executor.py:752: UserWarning: A worker stopped while some jobs were given to the executor. This can be caused by a too short worker timeout or by a memory leak.\n",
      "  warnings.warn(\n"
     ]
    },
    {
     "name": "stdout",
     "output_type": "stream",
     "text": [
      "[LightGBM] [Warning] Found whitespace in feature_names, replace with underlines\n",
      "[LightGBM] [Info] Auto-choosing row-wise multi-threading, the overhead of testing was 0.002573 seconds.\n",
      "You can set `force_row_wise=true` to remove the overhead.\n",
      "And if memory is not enough, you can set `force_col_wise=true`.\n",
      "[LightGBM] [Info] Total Bins 86\n",
      "[LightGBM] [Info] Number of data points in the train set: 177007, number of used features: 16\n",
      "[LightGBM] [Info] Start training from score 751.724474\n",
      "0.08579513259109693\n"
     ]
    }
   ],
   "source": [
    "from sklearn.ensemble import VotingRegressor\n",
    "vot = VotingRegressor(estimators=[('xgb', grid_search2),('lgbm', model5)])\n",
    "vot.fit(x_train_p, y_train)\n",
    "vot_pred = vot.predict(x_test_p)\n",
    "mape_vot = mean_absolute_percentage_error(y_test, vot_pred)\n",
    "print(mape_vot)"
   ]
  },
  {
   "cell_type": "markdown",
   "id": "5493598a",
   "metadata": {
    "papermill": {
     "duration": 0.019523,
     "end_time": "2025-03-23T17:27:47.025612",
     "exception": false,
     "start_time": "2025-03-23T17:27:47.006089",
     "status": "completed"
    },
    "tags": []
   },
   "source": [
    "# Performance comparision of three regression model"
   ]
  },
  {
   "cell_type": "code",
   "execution_count": 38,
   "id": "fd7ceb01",
   "metadata": {
    "execution": {
     "iopub.execute_input": "2025-03-23T17:27:47.066851Z",
     "iopub.status.busy": "2025-03-23T17:27:47.066415Z",
     "iopub.status.idle": "2025-03-23T17:27:48.813532Z",
     "shell.execute_reply": "2025-03-23T17:27:48.812469Z"
    },
    "papermill": {
     "duration": 1.770362,
     "end_time": "2025-03-23T17:27:48.815734",
     "exception": false,
     "start_time": "2025-03-23T17:27:47.045372",
     "status": "completed"
    },
    "tags": []
   },
   "outputs": [
    {
     "data": {
      "image/png": "[encoded data removed]",
      "text/plain": [
       "<Figure size 800x600 with 1 Axes>"
      ]
     },
     "metadata": {},
     "output_type": "display_data"
    }
   ],
   "source": [
    "plt.figure(figsize=(8, 6))\n",
    "plt.scatter(y_test, y_pred2, label=\"Model 1\", marker='o', color='red', alpha=0.7)\n",
    "plt.scatter(y_test, y_pred5, label=\"Model 2\", marker='s', color='blue', alpha=0.7)\n",
    "plt.scatter(y_test, vot_pred, label=\"Model 3\", marker='^', color='green', alpha=0.7)\n",
    "plt.plot(y_test, y_test, linestyle='--', color='black', label=\"Ideal Fit (y=x)\")\n",
    "plt.xlabel(\"Actual Y Values\")\n",
    "plt.ylabel(\"Predicted Y Values\")\n",
    "plt.title(\"Actual vs Predicted Values for Three Regression Models\")\n",
    "plt.legend()\n",
    "plt.grid(True)\n",
    "plt.show()"
   ]
  },
  {
   "cell_type": "markdown",
   "id": "4635dbca",
   "metadata": {
    "papermill": {
     "duration": 0.022251,
     "end_time": "2025-03-23T17:27:48.860920",
     "exception": false,
     "start_time": "2025-03-23T17:27:48.838669",
     "status": "completed"
    },
    "tags": []
   },
   "source": [
    "# TEST SET"
   ]
  },
  {
   "cell_type": "code",
   "execution_count": 39,
   "id": "f05e96cd",
   "metadata": {
    "execution": {
     "iopub.execute_input": "2025-03-23T17:27:48.907417Z",
     "iopub.status.busy": "2025-03-23T17:27:48.907051Z",
     "iopub.status.idle": "2025-03-23T17:27:49.023595Z",
     "shell.execute_reply": "2025-03-23T17:27:49.022650Z"
    },
    "papermill": {
     "duration": 0.142365,
     "end_time": "2025-03-23T17:27:49.025492",
     "exception": false,
     "start_time": "2025-03-23T17:27:48.883127",
     "status": "completed"
    },
    "tags": []
   },
   "outputs": [],
   "source": [
    "Test=pd.read_csv('/kaggle/input/playground-series-s5e1/test.csv')"
   ]
  },
  {
   "cell_type": "code",
   "execution_count": 40,
   "id": "ca87f678",
   "metadata": {
    "execution": {
     "iopub.execute_input": "2025-03-23T17:27:49.071603Z",
     "iopub.status.busy": "2025-03-23T17:27:49.071257Z",
     "iopub.status.idle": "2025-03-23T17:27:49.083911Z",
     "shell.execute_reply": "2025-03-23T17:27:49.083037Z"
    },
    "papermill": {
     "duration": 0.037829,
     "end_time": "2025-03-23T17:27:49.085551",
     "exception": false,
     "start_time": "2025-03-23T17:27:49.047722",
     "status": "completed"
    },
    "tags": []
   },
   "outputs": [
    {
     "data": {
      "text/html": [
       "<div>\n",
       "<style scoped>\n",
       "    .dataframe tbody tr th:only-of-type {\n",
       "        vertical-align: middle;\n",
       "    }\n",
       "\n",
       "    .dataframe tbody tr th {\n",
       "        vertical-align: top;\n",
       "    }\n",
       "\n",
       "    .dataframe thead th {\n",
       "        text-align: right;\n",
       "    }\n",
       "</style>\n",
       "<table border=\"1\" class=\"dataframe\">\n",
       "  <thead>\n",
       "    <tr style=\"text-align: right;\">\n",
       "      <th></th>\n",
       "      <th>id</th>\n",
       "      <th>date</th>\n",
       "      <th>country</th>\n",
       "      <th>store</th>\n",
       "      <th>product</th>\n",
       "    </tr>\n",
       "  </thead>\n",
       "  <tbody>\n",
       "    <tr>\n",
       "      <th>0</th>\n",
       "      <td>230130</td>\n",
       "      <td>2017-01-01</td>\n",
       "      <td>Canada</td>\n",
       "      <td>Discount Stickers</td>\n",
       "      <td>Holographic Goose</td>\n",
       "    </tr>\n",
       "    <tr>\n",
       "      <th>1</th>\n",
       "      <td>230131</td>\n",
       "      <td>2017-01-01</td>\n",
       "      <td>Canada</td>\n",
       "      <td>Discount Stickers</td>\n",
       "      <td>Kaggle</td>\n",
       "    </tr>\n",
       "    <tr>\n",
       "      <th>2</th>\n",
       "      <td>230132</td>\n",
       "      <td>2017-01-01</td>\n",
       "      <td>Canada</td>\n",
       "      <td>Discount Stickers</td>\n",
       "      <td>Kaggle Tiers</td>\n",
       "    </tr>\n",
       "    <tr>\n",
       "      <th>3</th>\n",
       "      <td>230133</td>\n",
       "      <td>2017-01-01</td>\n",
       "      <td>Canada</td>\n",
       "      <td>Discount Stickers</td>\n",
       "      <td>Kerneler</td>\n",
       "    </tr>\n",
       "    <tr>\n",
       "      <th>4</th>\n",
       "      <td>230134</td>\n",
       "      <td>2017-01-01</td>\n",
       "      <td>Canada</td>\n",
       "      <td>Discount Stickers</td>\n",
       "      <td>Kerneler Dark Mode</td>\n",
       "    </tr>\n",
       "    <tr>\n",
       "      <th>...</th>\n",
       "      <td>...</td>\n",
       "      <td>...</td>\n",
       "      <td>...</td>\n",
       "      <td>...</td>\n",
       "      <td>...</td>\n",
       "    </tr>\n",
       "    <tr>\n",
       "      <th>98545</th>\n",
       "      <td>328675</td>\n",
       "      <td>2019-12-31</td>\n",
       "      <td>Singapore</td>\n",
       "      <td>Premium Sticker Mart</td>\n",
       "      <td>Holographic Goose</td>\n",
       "    </tr>\n",
       "    <tr>\n",
       "      <th>98546</th>\n",
       "      <td>328676</td>\n",
       "      <td>2019-12-31</td>\n",
       "      <td>Singapore</td>\n",
       "      <td>Premium Sticker Mart</td>\n",
       "      <td>Kaggle</td>\n",
       "    </tr>\n",
       "    <tr>\n",
       "      <th>98547</th>\n",
       "      <td>328677</td>\n",
       "      <td>2019-12-31</td>\n",
       "      <td>Singapore</td>\n",
       "      <td>Premium Sticker Mart</td>\n",
       "      <td>Kaggle Tiers</td>\n",
       "    </tr>\n",
       "    <tr>\n",
       "      <th>98548</th>\n",
       "      <td>328678</td>\n",
       "      <td>2019-12-31</td>\n",
       "      <td>Singapore</td>\n",
       "      <td>Premium Sticker Mart</td>\n",
       "      <td>Kerneler</td>\n",
       "    </tr>\n",
       "    <tr>\n",
       "      <th>98549</th>\n",
       "      <td>328679</td>\n",
       "      <td>2019-12-31</td>\n",
       "      <td>Singapore</td>\n",
       "      <td>Premium Sticker Mart</td>\n",
       "      <td>Kerneler Dark Mode</td>\n",
       "    </tr>\n",
       "  </tbody>\n",
       "</table>\n",
       "<p>98550 rows × 5 columns</p>\n",
       "</div>"
      ],
      "text/plain": [
       "           id        date    country                 store             product\n",
       "0      230130  2017-01-01     Canada     Discount Stickers   Holographic Goose\n",
       "1      230131  2017-01-01     Canada     Discount Stickers              Kaggle\n",
       "2      230132  2017-01-01     Canada     Discount Stickers        Kaggle Tiers\n",
       "3      230133  2017-01-01     Canada     Discount Stickers            Kerneler\n",
       "4      230134  2017-01-01     Canada     Discount Stickers  Kerneler Dark Mode\n",
       "...       ...         ...        ...                   ...                 ...\n",
       "98545  328675  2019-12-31  Singapore  Premium Sticker Mart   Holographic Goose\n",
       "98546  328676  2019-12-31  Singapore  Premium Sticker Mart              Kaggle\n",
       "98547  328677  2019-12-31  Singapore  Premium Sticker Mart        Kaggle Tiers\n",
       "98548  328678  2019-12-31  Singapore  Premium Sticker Mart            Kerneler\n",
       "98549  328679  2019-12-31  Singapore  Premium Sticker Mart  Kerneler Dark Mode\n",
       "\n",
       "[98550 rows x 5 columns]"
      ]
     },
     "execution_count": 40,
     "metadata": {},
     "output_type": "execute_result"
    }
   ],
   "source": [
    "Test"
   ]
  },
  {
   "cell_type": "code",
   "execution_count": 41,
   "id": "aba33a24",
   "metadata": {
    "execution": {
     "iopub.execute_input": "2025-03-23T17:27:49.132619Z",
     "iopub.status.busy": "2025-03-23T17:27:49.132270Z",
     "iopub.status.idle": "2025-03-23T17:27:49.196861Z",
     "shell.execute_reply": "2025-03-23T17:27:49.195830Z"
    },
    "papermill": {
     "duration": 0.08997,
     "end_time": "2025-03-23T17:27:49.198891",
     "exception": false,
     "start_time": "2025-03-23T17:27:49.108921",
     "status": "completed"
    },
    "tags": []
   },
   "outputs": [],
   "source": [
    "Test['date'] = pd.to_datetime(Test['date'])\n",
    "Test['Year'] = Test['date'].dt.year\n",
    "Test['Month'] = Test['date'].dt.month\n",
    "Test['Day'] = Test['date'].dt.day\n",
    "Test['weekday'] = Test['date'].dt.weekday  # 0 = Monday, 6 = Sunday\n",
    "Test['is_weekend'] = Test['weekday'].apply(lambda x: 1 if x >= 5 else 0)"
   ]
  },
  {
   "cell_type": "code",
   "execution_count": 42,
   "id": "adcfb69e",
   "metadata": {
    "execution": {
     "iopub.execute_input": "2025-03-23T17:27:49.245741Z",
     "iopub.status.busy": "2025-03-23T17:27:49.245385Z",
     "iopub.status.idle": "2025-03-23T17:27:49.259841Z",
     "shell.execute_reply": "2025-03-23T17:27:49.258990Z"
    },
    "papermill": {
     "duration": 0.039506,
     "end_time": "2025-03-23T17:27:49.261380",
     "exception": false,
     "start_time": "2025-03-23T17:27:49.221874",
     "status": "completed"
    },
    "tags": []
   },
   "outputs": [
    {
     "data": {
      "text/html": [
       "<div>\n",
       "<style scoped>\n",
       "    .dataframe tbody tr th:only-of-type {\n",
       "        vertical-align: middle;\n",
       "    }\n",
       "\n",
       "    .dataframe tbody tr th {\n",
       "        vertical-align: top;\n",
       "    }\n",
       "\n",
       "    .dataframe thead th {\n",
       "        text-align: right;\n",
       "    }\n",
       "</style>\n",
       "<table border=\"1\" class=\"dataframe\">\n",
       "  <thead>\n",
       "    <tr style=\"text-align: right;\">\n",
       "      <th></th>\n",
       "      <th>id</th>\n",
       "      <th>date</th>\n",
       "      <th>country</th>\n",
       "      <th>store</th>\n",
       "      <th>product</th>\n",
       "      <th>Year</th>\n",
       "      <th>Month</th>\n",
       "      <th>Day</th>\n",
       "      <th>weekday</th>\n",
       "      <th>is_weekend</th>\n",
       "    </tr>\n",
       "  </thead>\n",
       "  <tbody>\n",
       "    <tr>\n",
       "      <th>0</th>\n",
       "      <td>230130</td>\n",
       "      <td>2017-01-01</td>\n",
       "      <td>Canada</td>\n",
       "      <td>Discount Stickers</td>\n",
       "      <td>Holographic Goose</td>\n",
       "      <td>2017</td>\n",
       "      <td>1</td>\n",
       "      <td>1</td>\n",
       "      <td>6</td>\n",
       "      <td>1</td>\n",
       "    </tr>\n",
       "    <tr>\n",
       "      <th>1</th>\n",
       "      <td>230131</td>\n",
       "      <td>2017-01-01</td>\n",
       "      <td>Canada</td>\n",
       "      <td>Discount Stickers</td>\n",
       "      <td>Kaggle</td>\n",
       "      <td>2017</td>\n",
       "      <td>1</td>\n",
       "      <td>1</td>\n",
       "      <td>6</td>\n",
       "      <td>1</td>\n",
       "    </tr>\n",
       "    <tr>\n",
       "      <th>2</th>\n",
       "      <td>230132</td>\n",
       "      <td>2017-01-01</td>\n",
       "      <td>Canada</td>\n",
       "      <td>Discount Stickers</td>\n",
       "      <td>Kaggle Tiers</td>\n",
       "      <td>2017</td>\n",
       "      <td>1</td>\n",
       "      <td>1</td>\n",
       "      <td>6</td>\n",
       "      <td>1</td>\n",
       "    </tr>\n",
       "    <tr>\n",
       "      <th>3</th>\n",
       "      <td>230133</td>\n",
       "      <td>2017-01-01</td>\n",
       "      <td>Canada</td>\n",
       "      <td>Discount Stickers</td>\n",
       "      <td>Kerneler</td>\n",
       "      <td>2017</td>\n",
       "      <td>1</td>\n",
       "      <td>1</td>\n",
       "      <td>6</td>\n",
       "      <td>1</td>\n",
       "    </tr>\n",
       "    <tr>\n",
       "      <th>4</th>\n",
       "      <td>230134</td>\n",
       "      <td>2017-01-01</td>\n",
       "      <td>Canada</td>\n",
       "      <td>Discount Stickers</td>\n",
       "      <td>Kerneler Dark Mode</td>\n",
       "      <td>2017</td>\n",
       "      <td>1</td>\n",
       "      <td>1</td>\n",
       "      <td>6</td>\n",
       "      <td>1</td>\n",
       "    </tr>\n",
       "    <tr>\n",
       "      <th>...</th>\n",
       "      <td>...</td>\n",
       "      <td>...</td>\n",
       "      <td>...</td>\n",
       "      <td>...</td>\n",
       "      <td>...</td>\n",
       "      <td>...</td>\n",
       "      <td>...</td>\n",
       "      <td>...</td>\n",
       "      <td>...</td>\n",
       "      <td>...</td>\n",
       "    </tr>\n",
       "    <tr>\n",
       "      <th>98545</th>\n",
       "      <td>328675</td>\n",
       "      <td>2019-12-31</td>\n",
       "      <td>Singapore</td>\n",
       "      <td>Premium Sticker Mart</td>\n",
       "      <td>Holographic Goose</td>\n",
       "      <td>2019</td>\n",
       "      <td>12</td>\n",
       "      <td>31</td>\n",
       "      <td>1</td>\n",
       "      <td>0</td>\n",
       "    </tr>\n",
       "    <tr>\n",
       "      <th>98546</th>\n",
       "      <td>328676</td>\n",
       "      <td>2019-12-31</td>\n",
       "      <td>Singapore</td>\n",
       "      <td>Premium Sticker Mart</td>\n",
       "      <td>Kaggle</td>\n",
       "      <td>2019</td>\n",
       "      <td>12</td>\n",
       "      <td>31</td>\n",
       "      <td>1</td>\n",
       "      <td>0</td>\n",
       "    </tr>\n",
       "    <tr>\n",
       "      <th>98547</th>\n",
       "      <td>328677</td>\n",
       "      <td>2019-12-31</td>\n",
       "      <td>Singapore</td>\n",
       "      <td>Premium Sticker Mart</td>\n",
       "      <td>Kaggle Tiers</td>\n",
       "      <td>2019</td>\n",
       "      <td>12</td>\n",
       "      <td>31</td>\n",
       "      <td>1</td>\n",
       "      <td>0</td>\n",
       "    </tr>\n",
       "    <tr>\n",
       "      <th>98548</th>\n",
       "      <td>328678</td>\n",
       "      <td>2019-12-31</td>\n",
       "      <td>Singapore</td>\n",
       "      <td>Premium Sticker Mart</td>\n",
       "      <td>Kerneler</td>\n",
       "      <td>2019</td>\n",
       "      <td>12</td>\n",
       "      <td>31</td>\n",
       "      <td>1</td>\n",
       "      <td>0</td>\n",
       "    </tr>\n",
       "    <tr>\n",
       "      <th>98549</th>\n",
       "      <td>328679</td>\n",
       "      <td>2019-12-31</td>\n",
       "      <td>Singapore</td>\n",
       "      <td>Premium Sticker Mart</td>\n",
       "      <td>Kerneler Dark Mode</td>\n",
       "      <td>2019</td>\n",
       "      <td>12</td>\n",
       "      <td>31</td>\n",
       "      <td>1</td>\n",
       "      <td>0</td>\n",
       "    </tr>\n",
       "  </tbody>\n",
       "</table>\n",
       "<p>98550 rows × 10 columns</p>\n",
       "</div>"
      ],
      "text/plain": [
       "           id       date    country                 store             product  \\\n",
       "0      230130 2017-01-01     Canada     Discount Stickers   Holographic Goose   \n",
       "1      230131 2017-01-01     Canada     Discount Stickers              Kaggle   \n",
       "2      230132 2017-01-01     Canada     Discount Stickers        Kaggle Tiers   \n",
       "3      230133 2017-01-01     Canada     Discount Stickers            Kerneler   \n",
       "4      230134 2017-01-01     Canada     Discount Stickers  Kerneler Dark Mode   \n",
       "...       ...        ...        ...                   ...                 ...   \n",
       "98545  328675 2019-12-31  Singapore  Premium Sticker Mart   Holographic Goose   \n",
       "98546  328676 2019-12-31  Singapore  Premium Sticker Mart              Kaggle   \n",
       "98547  328677 2019-12-31  Singapore  Premium Sticker Mart        Kaggle Tiers   \n",
       "98548  328678 2019-12-31  Singapore  Premium Sticker Mart            Kerneler   \n",
       "98549  328679 2019-12-31  Singapore  Premium Sticker Mart  Kerneler Dark Mode   \n",
       "\n",
       "       Year  Month  Day  weekday  is_weekend  \n",
       "0      2017      1    1        6           1  \n",
       "1      2017      1    1        6           1  \n",
       "2      2017      1    1        6           1  \n",
       "3      2017      1    1        6           1  \n",
       "4      2017      1    1        6           1  \n",
       "...     ...    ...  ...      ...         ...  \n",
       "98545  2019     12   31        1           0  \n",
       "98546  2019     12   31        1           0  \n",
       "98547  2019     12   31        1           0  \n",
       "98548  2019     12   31        1           0  \n",
       "98549  2019     12   31        1           0  \n",
       "\n",
       "[98550 rows x 10 columns]"
      ]
     },
     "execution_count": 42,
     "metadata": {},
     "output_type": "execute_result"
    }
   ],
   "source": [
    "Test"
   ]
  },
  {
   "cell_type": "code",
   "execution_count": 43,
   "id": "5db3ac0c",
   "metadata": {
    "execution": {
     "iopub.execute_input": "2025-03-23T17:27:49.308537Z",
     "iopub.status.busy": "2025-03-23T17:27:49.308157Z",
     "iopub.status.idle": "2025-03-23T17:27:49.317312Z",
     "shell.execute_reply": "2025-03-23T17:27:49.316290Z"
    },
    "papermill": {
     "duration": 0.034606,
     "end_time": "2025-03-23T17:27:49.319049",
     "exception": false,
     "start_time": "2025-03-23T17:27:49.284443",
     "status": "completed"
    },
    "tags": []
   },
   "outputs": [],
   "source": [
    "Test.drop(columns=['id','date'],inplace=True)"
   ]
  },
  {
   "cell_type": "code",
   "execution_count": 44,
   "id": "ddd75dc9",
   "metadata": {
    "execution": {
     "iopub.execute_input": "2025-03-23T17:27:49.366104Z",
     "iopub.status.busy": "2025-03-23T17:27:49.365758Z",
     "iopub.status.idle": "2025-03-23T17:27:49.378882Z",
     "shell.execute_reply": "2025-03-23T17:27:49.377946Z"
    },
    "papermill": {
     "duration": 0.038433,
     "end_time": "2025-03-23T17:27:49.380453",
     "exception": false,
     "start_time": "2025-03-23T17:27:49.342020",
     "status": "completed"
    },
    "tags": []
   },
   "outputs": [
    {
     "data": {
      "text/html": [
       "<div>\n",
       "<style scoped>\n",
       "    .dataframe tbody tr th:only-of-type {\n",
       "        vertical-align: middle;\n",
       "    }\n",
       "\n",
       "    .dataframe tbody tr th {\n",
       "        vertical-align: top;\n",
       "    }\n",
       "\n",
       "    .dataframe thead th {\n",
       "        text-align: right;\n",
       "    }\n",
       "</style>\n",
       "<table border=\"1\" class=\"dataframe\">\n",
       "  <thead>\n",
       "    <tr style=\"text-align: right;\">\n",
       "      <th></th>\n",
       "      <th>country</th>\n",
       "      <th>store</th>\n",
       "      <th>product</th>\n",
       "      <th>Year</th>\n",
       "      <th>Month</th>\n",
       "      <th>Day</th>\n",
       "      <th>weekday</th>\n",
       "      <th>is_weekend</th>\n",
       "    </tr>\n",
       "  </thead>\n",
       "  <tbody>\n",
       "    <tr>\n",
       "      <th>0</th>\n",
       "      <td>Canada</td>\n",
       "      <td>Discount Stickers</td>\n",
       "      <td>Holographic Goose</td>\n",
       "      <td>2017</td>\n",
       "      <td>1</td>\n",
       "      <td>1</td>\n",
       "      <td>6</td>\n",
       "      <td>1</td>\n",
       "    </tr>\n",
       "    <tr>\n",
       "      <th>1</th>\n",
       "      <td>Canada</td>\n",
       "      <td>Discount Stickers</td>\n",
       "      <td>Kaggle</td>\n",
       "      <td>2017</td>\n",
       "      <td>1</td>\n",
       "      <td>1</td>\n",
       "      <td>6</td>\n",
       "      <td>1</td>\n",
       "    </tr>\n",
       "    <tr>\n",
       "      <th>2</th>\n",
       "      <td>Canada</td>\n",
       "      <td>Discount Stickers</td>\n",
       "      <td>Kaggle Tiers</td>\n",
       "      <td>2017</td>\n",
       "      <td>1</td>\n",
       "      <td>1</td>\n",
       "      <td>6</td>\n",
       "      <td>1</td>\n",
       "    </tr>\n",
       "    <tr>\n",
       "      <th>3</th>\n",
       "      <td>Canada</td>\n",
       "      <td>Discount Stickers</td>\n",
       "      <td>Kerneler</td>\n",
       "      <td>2017</td>\n",
       "      <td>1</td>\n",
       "      <td>1</td>\n",
       "      <td>6</td>\n",
       "      <td>1</td>\n",
       "    </tr>\n",
       "    <tr>\n",
       "      <th>4</th>\n",
       "      <td>Canada</td>\n",
       "      <td>Discount Stickers</td>\n",
       "      <td>Kerneler Dark Mode</td>\n",
       "      <td>2017</td>\n",
       "      <td>1</td>\n",
       "      <td>1</td>\n",
       "      <td>6</td>\n",
       "      <td>1</td>\n",
       "    </tr>\n",
       "    <tr>\n",
       "      <th>...</th>\n",
       "      <td>...</td>\n",
       "      <td>...</td>\n",
       "      <td>...</td>\n",
       "      <td>...</td>\n",
       "      <td>...</td>\n",
       "      <td>...</td>\n",
       "      <td>...</td>\n",
       "      <td>...</td>\n",
       "    </tr>\n",
       "    <tr>\n",
       "      <th>98545</th>\n",
       "      <td>Singapore</td>\n",
       "      <td>Premium Sticker Mart</td>\n",
       "      <td>Holographic Goose</td>\n",
       "      <td>2019</td>\n",
       "      <td>12</td>\n",
       "      <td>31</td>\n",
       "      <td>1</td>\n",
       "      <td>0</td>\n",
       "    </tr>\n",
       "    <tr>\n",
       "      <th>98546</th>\n",
       "      <td>Singapore</td>\n",
       "      <td>Premium Sticker Mart</td>\n",
       "      <td>Kaggle</td>\n",
       "      <td>2019</td>\n",
       "      <td>12</td>\n",
       "      <td>31</td>\n",
       "      <td>1</td>\n",
       "      <td>0</td>\n",
       "    </tr>\n",
       "    <tr>\n",
       "      <th>98547</th>\n",
       "      <td>Singapore</td>\n",
       "      <td>Premium Sticker Mart</td>\n",
       "      <td>Kaggle Tiers</td>\n",
       "      <td>2019</td>\n",
       "      <td>12</td>\n",
       "      <td>31</td>\n",
       "      <td>1</td>\n",
       "      <td>0</td>\n",
       "    </tr>\n",
       "    <tr>\n",
       "      <th>98548</th>\n",
       "      <td>Singapore</td>\n",
       "      <td>Premium Sticker Mart</td>\n",
       "      <td>Kerneler</td>\n",
       "      <td>2019</td>\n",
       "      <td>12</td>\n",
       "      <td>31</td>\n",
       "      <td>1</td>\n",
       "      <td>0</td>\n",
       "    </tr>\n",
       "    <tr>\n",
       "      <th>98549</th>\n",
       "      <td>Singapore</td>\n",
       "      <td>Premium Sticker Mart</td>\n",
       "      <td>Kerneler Dark Mode</td>\n",
       "      <td>2019</td>\n",
       "      <td>12</td>\n",
       "      <td>31</td>\n",
       "      <td>1</td>\n",
       "      <td>0</td>\n",
       "    </tr>\n",
       "  </tbody>\n",
       "</table>\n",
       "<p>98550 rows × 8 columns</p>\n",
       "</div>"
      ],
      "text/plain": [
       "         country                 store             product  Year  Month  Day  \\\n",
       "0         Canada     Discount Stickers   Holographic Goose  2017      1    1   \n",
       "1         Canada     Discount Stickers              Kaggle  2017      1    1   \n",
       "2         Canada     Discount Stickers        Kaggle Tiers  2017      1    1   \n",
       "3         Canada     Discount Stickers            Kerneler  2017      1    1   \n",
       "4         Canada     Discount Stickers  Kerneler Dark Mode  2017      1    1   \n",
       "...          ...                   ...                 ...   ...    ...  ...   \n",
       "98545  Singapore  Premium Sticker Mart   Holographic Goose  2019     12   31   \n",
       "98546  Singapore  Premium Sticker Mart              Kaggle  2019     12   31   \n",
       "98547  Singapore  Premium Sticker Mart        Kaggle Tiers  2019     12   31   \n",
       "98548  Singapore  Premium Sticker Mart            Kerneler  2019     12   31   \n",
       "98549  Singapore  Premium Sticker Mart  Kerneler Dark Mode  2019     12   31   \n",
       "\n",
       "       weekday  is_weekend  \n",
       "0            6           1  \n",
       "1            6           1  \n",
       "2            6           1  \n",
       "3            6           1  \n",
       "4            6           1  \n",
       "...        ...         ...  \n",
       "98545        1           0  \n",
       "98546        1           0  \n",
       "98547        1           0  \n",
       "98548        1           0  \n",
       "98549        1           0  \n",
       "\n",
       "[98550 rows x 8 columns]"
      ]
     },
     "execution_count": 44,
     "metadata": {},
     "output_type": "execute_result"
    }
   ],
   "source": [
    "Test"
   ]
  },
  {
   "cell_type": "code",
   "execution_count": 45,
   "id": "c6e0a74f",
   "metadata": {
    "execution": {
     "iopub.execute_input": "2025-03-23T17:27:49.428771Z",
     "iopub.status.busy": "2025-03-23T17:27:49.428418Z",
     "iopub.status.idle": "2025-03-23T17:27:49.526759Z",
     "shell.execute_reply": "2025-03-23T17:27:49.525841Z"
    },
    "papermill": {
     "duration": 0.124583,
     "end_time": "2025-03-23T17:27:49.528569",
     "exception": false,
     "start_time": "2025-03-23T17:27:49.403986",
     "status": "completed"
    },
    "tags": []
   },
   "outputs": [],
   "source": [
    "test=preprocessor.transform(Test)"
   ]
  },
  {
   "cell_type": "code",
   "execution_count": 46,
   "id": "2bb1c516",
   "metadata": {
    "execution": {
     "iopub.execute_input": "2025-03-23T17:27:49.576514Z",
     "iopub.status.busy": "2025-03-23T17:27:49.576117Z",
     "iopub.status.idle": "2025-03-23T17:27:49.602380Z",
     "shell.execute_reply": "2025-03-23T17:27:49.601341Z"
    },
    "papermill": {
     "duration": 0.051965,
     "end_time": "2025-03-23T17:27:49.604065",
     "exception": false,
     "start_time": "2025-03-23T17:27:49.552100",
     "status": "completed"
    },
    "tags": []
   },
   "outputs": [
    {
     "data": {
      "text/html": [
       "<div>\n",
       "<style scoped>\n",
       "    .dataframe tbody tr th:only-of-type {\n",
       "        vertical-align: middle;\n",
       "    }\n",
       "\n",
       "    .dataframe tbody tr th {\n",
       "        vertical-align: top;\n",
       "    }\n",
       "\n",
       "    .dataframe thead th {\n",
       "        text-align: right;\n",
       "    }\n",
       "</style>\n",
       "<table border=\"1\" class=\"dataframe\">\n",
       "  <thead>\n",
       "    <tr style=\"text-align: right;\">\n",
       "      <th></th>\n",
       "      <th>num__Year</th>\n",
       "      <th>num__Month</th>\n",
       "      <th>num__Day</th>\n",
       "      <th>num__weekday</th>\n",
       "      <th>num__is_weekend</th>\n",
       "      <th>cat__country_Finland</th>\n",
       "      <th>cat__country_Italy</th>\n",
       "      <th>cat__country_Kenya</th>\n",
       "      <th>cat__country_Norway</th>\n",
       "      <th>cat__country_Singapore</th>\n",
       "      <th>cat__store_Premium Sticker Mart</th>\n",
       "      <th>cat__store_Stickers for Less</th>\n",
       "      <th>cat__product_Kaggle</th>\n",
       "      <th>cat__product_Kaggle Tiers</th>\n",
       "      <th>cat__product_Kerneler</th>\n",
       "      <th>cat__product_Kerneler Dark Mode</th>\n",
       "    </tr>\n",
       "  </thead>\n",
       "  <tbody>\n",
       "    <tr>\n",
       "      <th>0</th>\n",
       "      <td>1.999702</td>\n",
       "      <td>-1.597501</td>\n",
       "      <td>-1.675237</td>\n",
       "      <td>1.493082</td>\n",
       "      <td>1.571833</td>\n",
       "      <td>0.0</td>\n",
       "      <td>0.0</td>\n",
       "      <td>0.0</td>\n",
       "      <td>0.0</td>\n",
       "      <td>0.0</td>\n",
       "      <td>0.0</td>\n",
       "      <td>0.0</td>\n",
       "      <td>0.0</td>\n",
       "      <td>0.0</td>\n",
       "      <td>0.0</td>\n",
       "      <td>0.0</td>\n",
       "    </tr>\n",
       "    <tr>\n",
       "      <th>1</th>\n",
       "      <td>1.999702</td>\n",
       "      <td>-1.597501</td>\n",
       "      <td>-1.675237</td>\n",
       "      <td>1.493082</td>\n",
       "      <td>1.571833</td>\n",
       "      <td>0.0</td>\n",
       "      <td>0.0</td>\n",
       "      <td>0.0</td>\n",
       "      <td>0.0</td>\n",
       "      <td>0.0</td>\n",
       "      <td>0.0</td>\n",
       "      <td>0.0</td>\n",
       "      <td>1.0</td>\n",
       "      <td>0.0</td>\n",
       "      <td>0.0</td>\n",
       "      <td>0.0</td>\n",
       "    </tr>\n",
       "    <tr>\n",
       "      <th>2</th>\n",
       "      <td>1.999702</td>\n",
       "      <td>-1.597501</td>\n",
       "      <td>-1.675237</td>\n",
       "      <td>1.493082</td>\n",
       "      <td>1.571833</td>\n",
       "      <td>0.0</td>\n",
       "      <td>0.0</td>\n",
       "      <td>0.0</td>\n",
       "      <td>0.0</td>\n",
       "      <td>0.0</td>\n",
       "      <td>0.0</td>\n",
       "      <td>0.0</td>\n",
       "      <td>0.0</td>\n",
       "      <td>1.0</td>\n",
       "      <td>0.0</td>\n",
       "      <td>0.0</td>\n",
       "    </tr>\n",
       "    <tr>\n",
       "      <th>3</th>\n",
       "      <td>1.999702</td>\n",
       "      <td>-1.597501</td>\n",
       "      <td>-1.675237</td>\n",
       "      <td>1.493082</td>\n",
       "      <td>1.571833</td>\n",
       "      <td>0.0</td>\n",
       "      <td>0.0</td>\n",
       "      <td>0.0</td>\n",
       "      <td>0.0</td>\n",
       "      <td>0.0</td>\n",
       "      <td>0.0</td>\n",
       "      <td>0.0</td>\n",
       "      <td>0.0</td>\n",
       "      <td>0.0</td>\n",
       "      <td>1.0</td>\n",
       "      <td>0.0</td>\n",
       "    </tr>\n",
       "    <tr>\n",
       "      <th>4</th>\n",
       "      <td>1.999702</td>\n",
       "      <td>-1.597501</td>\n",
       "      <td>-1.675237</td>\n",
       "      <td>1.493082</td>\n",
       "      <td>1.571833</td>\n",
       "      <td>0.0</td>\n",
       "      <td>0.0</td>\n",
       "      <td>0.0</td>\n",
       "      <td>0.0</td>\n",
       "      <td>0.0</td>\n",
       "      <td>0.0</td>\n",
       "      <td>0.0</td>\n",
       "      <td>0.0</td>\n",
       "      <td>0.0</td>\n",
       "      <td>0.0</td>\n",
       "      <td>1.0</td>\n",
       "    </tr>\n",
       "    <tr>\n",
       "      <th>...</th>\n",
       "      <td>...</td>\n",
       "      <td>...</td>\n",
       "      <td>...</td>\n",
       "      <td>...</td>\n",
       "      <td>...</td>\n",
       "      <td>...</td>\n",
       "      <td>...</td>\n",
       "      <td>...</td>\n",
       "      <td>...</td>\n",
       "      <td>...</td>\n",
       "      <td>...</td>\n",
       "      <td>...</td>\n",
       "      <td>...</td>\n",
       "      <td>...</td>\n",
       "      <td>...</td>\n",
       "      <td>...</td>\n",
       "    </tr>\n",
       "    <tr>\n",
       "      <th>98545</th>\n",
       "      <td>3.001027</td>\n",
       "      <td>1.582061</td>\n",
       "      <td>1.735096</td>\n",
       "      <td>-1.005504</td>\n",
       "      <td>-0.636200</td>\n",
       "      <td>0.0</td>\n",
       "      <td>0.0</td>\n",
       "      <td>0.0</td>\n",
       "      <td>0.0</td>\n",
       "      <td>1.0</td>\n",
       "      <td>1.0</td>\n",
       "      <td>0.0</td>\n",
       "      <td>0.0</td>\n",
       "      <td>0.0</td>\n",
       "      <td>0.0</td>\n",
       "      <td>0.0</td>\n",
       "    </tr>\n",
       "    <tr>\n",
       "      <th>98546</th>\n",
       "      <td>3.001027</td>\n",
       "      <td>1.582061</td>\n",
       "      <td>1.735096</td>\n",
       "      <td>-1.005504</td>\n",
       "      <td>-0.636200</td>\n",
       "      <td>0.0</td>\n",
       "      <td>0.0</td>\n",
       "      <td>0.0</td>\n",
       "      <td>0.0</td>\n",
       "      <td>1.0</td>\n",
       "      <td>1.0</td>\n",
       "      <td>0.0</td>\n",
       "      <td>1.0</td>\n",
       "      <td>0.0</td>\n",
       "      <td>0.0</td>\n",
       "      <td>0.0</td>\n",
       "    </tr>\n",
       "    <tr>\n",
       "      <th>98547</th>\n",
       "      <td>3.001027</td>\n",
       "      <td>1.582061</td>\n",
       "      <td>1.735096</td>\n",
       "      <td>-1.005504</td>\n",
       "      <td>-0.636200</td>\n",
       "      <td>0.0</td>\n",
       "      <td>0.0</td>\n",
       "      <td>0.0</td>\n",
       "      <td>0.0</td>\n",
       "      <td>1.0</td>\n",
       "      <td>1.0</td>\n",
       "      <td>0.0</td>\n",
       "      <td>0.0</td>\n",
       "      <td>1.0</td>\n",
       "      <td>0.0</td>\n",
       "      <td>0.0</td>\n",
       "    </tr>\n",
       "    <tr>\n",
       "      <th>98548</th>\n",
       "      <td>3.001027</td>\n",
       "      <td>1.582061</td>\n",
       "      <td>1.735096</td>\n",
       "      <td>-1.005504</td>\n",
       "      <td>-0.636200</td>\n",
       "      <td>0.0</td>\n",
       "      <td>0.0</td>\n",
       "      <td>0.0</td>\n",
       "      <td>0.0</td>\n",
       "      <td>1.0</td>\n",
       "      <td>1.0</td>\n",
       "      <td>0.0</td>\n",
       "      <td>0.0</td>\n",
       "      <td>0.0</td>\n",
       "      <td>1.0</td>\n",
       "      <td>0.0</td>\n",
       "    </tr>\n",
       "    <tr>\n",
       "      <th>98549</th>\n",
       "      <td>3.001027</td>\n",
       "      <td>1.582061</td>\n",
       "      <td>1.735096</td>\n",
       "      <td>-1.005504</td>\n",
       "      <td>-0.636200</td>\n",
       "      <td>0.0</td>\n",
       "      <td>0.0</td>\n",
       "      <td>0.0</td>\n",
       "      <td>0.0</td>\n",
       "      <td>1.0</td>\n",
       "      <td>1.0</td>\n",
       "      <td>0.0</td>\n",
       "      <td>0.0</td>\n",
       "      <td>0.0</td>\n",
       "      <td>0.0</td>\n",
       "      <td>1.0</td>\n",
       "    </tr>\n",
       "  </tbody>\n",
       "</table>\n",
       "<p>98550 rows × 16 columns</p>\n",
       "</div>"
      ],
      "text/plain": [
       "       num__Year  num__Month  num__Day  num__weekday  num__is_weekend  \\\n",
       "0       1.999702   -1.597501 -1.675237      1.493082         1.571833   \n",
       "1       1.999702   -1.597501 -1.675237      1.493082         1.571833   \n",
       "2       1.999702   -1.597501 -1.675237      1.493082         1.571833   \n",
       "3       1.999702   -1.597501 -1.675237      1.493082         1.571833   \n",
       "4       1.999702   -1.597501 -1.675237      1.493082         1.571833   \n",
       "...          ...         ...       ...           ...              ...   \n",
       "98545   3.001027    1.582061  1.735096     -1.005504        -0.636200   \n",
       "98546   3.001027    1.582061  1.735096     -1.005504        -0.636200   \n",
       "98547   3.001027    1.582061  1.735096     -1.005504        -0.636200   \n",
       "98548   3.001027    1.582061  1.735096     -1.005504        -0.636200   \n",
       "98549   3.001027    1.582061  1.735096     -1.005504        -0.636200   \n",
       "\n",
       "       cat__country_Finland  cat__country_Italy  cat__country_Kenya  \\\n",
       "0                       0.0                 0.0                 0.0   \n",
       "1                       0.0                 0.0                 0.0   \n",
       "2                       0.0                 0.0                 0.0   \n",
       "3                       0.0                 0.0                 0.0   \n",
       "4                       0.0                 0.0                 0.0   \n",
       "...                     ...                 ...                 ...   \n",
       "98545                   0.0                 0.0                 0.0   \n",
       "98546                   0.0                 0.0                 0.0   \n",
       "98547                   0.0                 0.0                 0.0   \n",
       "98548                   0.0                 0.0                 0.0   \n",
       "98549                   0.0                 0.0                 0.0   \n",
       "\n",
       "       cat__country_Norway  cat__country_Singapore  \\\n",
       "0                      0.0                     0.0   \n",
       "1                      0.0                     0.0   \n",
       "2                      0.0                     0.0   \n",
       "3                      0.0                     0.0   \n",
       "4                      0.0                     0.0   \n",
       "...                    ...                     ...   \n",
       "98545                  0.0                     1.0   \n",
       "98546                  0.0                     1.0   \n",
       "98547                  0.0                     1.0   \n",
       "98548                  0.0                     1.0   \n",
       "98549                  0.0                     1.0   \n",
       "\n",
       "       cat__store_Premium Sticker Mart  cat__store_Stickers for Less  \\\n",
       "0                                  0.0                           0.0   \n",
       "1                                  0.0                           0.0   \n",
       "2                                  0.0                           0.0   \n",
       "3                                  0.0                           0.0   \n",
       "4                                  0.0                           0.0   \n",
       "...                                ...                           ...   \n",
       "98545                              1.0                           0.0   \n",
       "98546                              1.0                           0.0   \n",
       "98547                              1.0                           0.0   \n",
       "98548                              1.0                           0.0   \n",
       "98549                              1.0                           0.0   \n",
       "\n",
       "       cat__product_Kaggle  cat__product_Kaggle Tiers  cat__product_Kerneler  \\\n",
       "0                      0.0                        0.0                    0.0   \n",
       "1                      1.0                        0.0                    0.0   \n",
       "2                      0.0                        1.0                    0.0   \n",
       "3                      0.0                        0.0                    1.0   \n",
       "4                      0.0                        0.0                    0.0   \n",
       "...                    ...                        ...                    ...   \n",
       "98545                  0.0                        0.0                    0.0   \n",
       "98546                  1.0                        0.0                    0.0   \n",
       "98547                  0.0                        1.0                    0.0   \n",
       "98548                  0.0                        0.0                    1.0   \n",
       "98549                  0.0                        0.0                    0.0   \n",
       "\n",
       "       cat__product_Kerneler Dark Mode  \n",
       "0                                  0.0  \n",
       "1                                  0.0  \n",
       "2                                  0.0  \n",
       "3                                  0.0  \n",
       "4                                  1.0  \n",
       "...                                ...  \n",
       "98545                              0.0  \n",
       "98546                              0.0  \n",
       "98547                              0.0  \n",
       "98548                              0.0  \n",
       "98549                              1.0  \n",
       "\n",
       "[98550 rows x 16 columns]"
      ]
     },
     "execution_count": 46,
     "metadata": {},
     "output_type": "execute_result"
    }
   ],
   "source": [
    "test"
   ]
  },
  {
   "cell_type": "code",
   "execution_count": 47,
   "id": "f2f9b7e3",
   "metadata": {
    "execution": {
     "iopub.execute_input": "2025-03-23T17:27:49.653231Z",
     "iopub.status.busy": "2025-03-23T17:27:49.652855Z",
     "iopub.status.idle": "2025-03-23T17:27:59.559096Z",
     "shell.execute_reply": "2025-03-23T17:27:59.557958Z"
    },
    "papermill": {
     "duration": 9.93359,
     "end_time": "2025-03-23T17:27:59.561485",
     "exception": false,
     "start_time": "2025-03-23T17:27:49.627895",
     "status": "completed"
    },
    "tags": []
   },
   "outputs": [],
   "source": [
    "pred=vot.predict(test)"
   ]
  },
  {
   "cell_type": "code",
   "execution_count": 48,
   "id": "d755a43a",
   "metadata": {
    "execution": {
     "iopub.execute_input": "2025-03-23T17:27:59.612897Z",
     "iopub.status.busy": "2025-03-23T17:27:59.612543Z",
     "iopub.status.idle": "2025-03-23T17:27:59.618541Z",
     "shell.execute_reply": "2025-03-23T17:27:59.617563Z"
    },
    "papermill": {
     "duration": 0.031814,
     "end_time": "2025-03-23T17:27:59.620065",
     "exception": false,
     "start_time": "2025-03-23T17:27:59.588251",
     "status": "completed"
    },
    "tags": []
   },
   "outputs": [
    {
     "data": {
      "text/plain": [
       "array([ 145.66768792,  838.45962709,  785.25739889, ..., 1989.10973129,\n",
       "       1120.18074014, 1319.1516433 ])"
      ]
     },
     "execution_count": 48,
     "metadata": {},
     "output_type": "execute_result"
    }
   ],
   "source": [
    "pred"
   ]
  },
  {
   "cell_type": "code",
   "execution_count": 49,
   "id": "892c219a",
   "metadata": {
    "execution": {
     "iopub.execute_input": "2025-03-23T17:27:59.668972Z",
     "iopub.status.busy": "2025-03-23T17:27:59.668633Z",
     "iopub.status.idle": "2025-03-23T17:27:59.876186Z",
     "shell.execute_reply": "2025-03-23T17:27:59.874916Z"
    },
    "papermill": {
     "duration": 0.233847,
     "end_time": "2025-03-23T17:27:59.878206",
     "exception": false,
     "start_time": "2025-03-23T17:27:59.644359",
     "status": "completed"
    },
    "tags": []
   },
   "outputs": [],
   "source": [
    "submission = pd.DataFrame({\"id\": range(230130,328680), \n",
    "                           \"num_sold\": pred}) \n",
    "\n",
    "submission.to_csv('submission.csv',index=False)"
   ]
  },
  {
   "cell_type": "code",
   "execution_count": null,
   "id": "7870be41",
   "metadata": {
    "papermill": {
     "duration": 0.024059,
     "end_time": "2025-03-23T17:27:59.926475",
     "exception": false,
     "start_time": "2025-03-23T17:27:59.902416",
     "status": "completed"
    },
    "tags": []
   },
   "outputs": [],
   "source": []
  }
 ],
 "metadata": {
  "kaggle": {
   "accelerator": "none",
   "dataSources": [
    {
     "databundleVersionId": 10652996,
     "sourceId": 85723,
     "sourceType": "competition"
    }
   ],
   "dockerImageVersionId": 30822,
   "isGpuEnabled": false,
   "isInternetEnabled": false,
   "language": "python",
   "sourceType": "notebook"
  },
  "kernelspec": {
   "display_name": "Python 3",
   "language": "python",
   "name": "python3"
  },
  "language_info": {
   "codemirror_mode": {
    "name": "ipython",
    "version": 3
   },
   "file_extension": ".py",
   "mimetype": "text/x-python",
   "name": "python",
   "nbconvert_exporter": "python",
   "pygments_lexer": "ipython3",
   "version": "3.10.12"
  },
  "papermill": {
   "default_parameters": {},
   "duration": 604.119744,
   "end_time": "2025-03-23T17:28:01.077927",
   "environment_variables": {},
   "exception": null,
   "input_path": "__notebook__.ipynb",
   "output_path": "__notebook__.ipynb",
   "parameters": {},
   "start_time": "2025-03-23T17:17:56.958183",
   "version": "2.6.0"
  }
 },
 "nbformat": 4,
 "nbformat_minor": 5
}
